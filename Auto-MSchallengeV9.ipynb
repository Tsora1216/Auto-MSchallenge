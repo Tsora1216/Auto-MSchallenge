{
 "cells": [
  {
   "cell_type": "markdown",
   "metadata": {},
   "source": [
    "Setup"
   ]
  },
  {
   "cell_type": "markdown",
   "metadata": {},
   "source": [
    "info.txtにURL一行のみ入れる"
   ]
  },
  {
   "cell_type": "code",
   "execution_count": 1,
   "metadata": {},
   "outputs": [],
   "source": [
    "Mail_Address = \"so12ra16@outlook.jp\""
   ]
  },
  {
   "cell_type": "code",
   "execution_count": 2,
   "metadata": {},
   "outputs": [
    {
     "name": "stdout",
     "output_type": "stream",
     "text": [
      "Defaulting to user installation because normal site-packages is not writeable\n",
      "Requirement already satisfied: selenium in c:\\users\\owner\\appdata\\roaming\\python\\python310\\site-packages (4.12.0)\n",
      "Requirement already satisfied: urllib3[socks]<3,>=1.26 in c:\\users\\owner\\appdata\\roaming\\python\\python310\\site-packages (from selenium) (1.26.9)\n",
      "Requirement already satisfied: trio~=0.17 in c:\\users\\owner\\appdata\\roaming\\python\\python310\\site-packages (from selenium) (0.20.0)\n",
      "Requirement already satisfied: trio-websocket~=0.9 in c:\\users\\owner\\appdata\\roaming\\python\\python310\\site-packages (from selenium) (0.9.2)\n",
      "Requirement already satisfied: certifi>=2021.10.8 in c:\\users\\owner\\appdata\\roaming\\python\\python310\\site-packages (from selenium) (2021.10.8)\n",
      "Requirement already satisfied: attrs>=19.2.0 in c:\\users\\owner\\appdata\\roaming\\python\\python310\\site-packages (from trio~=0.17->selenium) (21.4.0)\n",
      "Requirement already satisfied: sortedcontainers in c:\\users\\owner\\appdata\\roaming\\python\\python310\\site-packages (from trio~=0.17->selenium) (2.4.0)\n",
      "Requirement already satisfied: async-generator>=1.9 in c:\\users\\owner\\appdata\\roaming\\python\\python310\\site-packages (from trio~=0.17->selenium) (1.10)\n",
      "Requirement already satisfied: idna in c:\\users\\owner\\appdata\\roaming\\python\\python310\\site-packages (from trio~=0.17->selenium) (2.10)\n",
      "Requirement already satisfied: outcome in c:\\users\\owner\\appdata\\roaming\\python\\python310\\site-packages (from trio~=0.17->selenium) (1.1.0)\n",
      "Requirement already satisfied: sniffio in c:\\users\\owner\\appdata\\roaming\\python\\python310\\site-packages (from trio~=0.17->selenium) (1.2.0)\n",
      "Requirement already satisfied: cffi>=1.14 in c:\\users\\owner\\appdata\\roaming\\python\\python310\\site-packages (from trio~=0.17->selenium) (1.15.0)\n",
      "Requirement already satisfied: wsproto>=0.14 in c:\\users\\owner\\appdata\\roaming\\python\\python310\\site-packages (from trio-websocket~=0.9->selenium) (1.0.0)\n",
      "Requirement already satisfied: PySocks!=1.5.7,<2.0,>=1.5.6 in c:\\users\\owner\\appdata\\roaming\\python\\python310\\site-packages (from urllib3[socks]<3,>=1.26->selenium) (1.7.1)\n",
      "Requirement already satisfied: pycparser in c:\\users\\owner\\appdata\\roaming\\python\\python310\\site-packages (from cffi>=1.14->trio~=0.17->selenium) (2.21)\n",
      "Requirement already satisfied: h11<1,>=0.9.0 in c:\\users\\owner\\appdata\\roaming\\python\\python310\\site-packages (from wsproto>=0.14->trio-websocket~=0.9->selenium) (0.9.0)\n"
     ]
    },
    {
     "name": "stderr",
     "output_type": "stream",
     "text": [
      "DEPRECATION: textract 1.6.5 has a non-standard dependency specifier extract-msg<=0.29.*. pip 23.3 will enforce this behaviour change. A possible replacement is to upgrade to a newer version of textract or contact the author to suggest that they release a version with a conforming dependency specifiers. Discussion can be found at https://github.com/pypa/pip/issues/12063\n"
     ]
    },
    {
     "name": "stdout",
     "output_type": "stream",
     "text": [
      "Defaulting to user installation because normal site-packages is not writeable\n",
      "Requirement already satisfied: webdriver-manager in c:\\users\\owner\\appdata\\roaming\\python\\python310\\site-packages (4.0.0)\n",
      "Requirement already satisfied: requests in c:\\users\\owner\\appdata\\roaming\\python\\python310\\site-packages (from webdriver-manager) (2.28.1)\n",
      "Requirement already satisfied: python-dotenv in c:\\users\\owner\\appdata\\roaming\\python\\python310\\site-packages (from webdriver-manager) (0.20.0)\n",
      "Requirement already satisfied: packaging in c:\\users\\owner\\appdata\\roaming\\python\\python310\\site-packages (from webdriver-manager) (21.3)\n",
      "Requirement already satisfied: pyparsing!=3.0.5,>=2.0.2 in c:\\users\\owner\\appdata\\roaming\\python\\python310\\site-packages (from packaging->webdriver-manager) (3.0.7)\n",
      "Requirement already satisfied: charset-normalizer<3,>=2 in c:\\users\\owner\\appdata\\roaming\\python\\python310\\site-packages (from requests->webdriver-manager) (2.0.12)\n",
      "Requirement already satisfied: idna<4,>=2.5 in c:\\users\\owner\\appdata\\roaming\\python\\python310\\site-packages (from requests->webdriver-manager) (2.10)\n",
      "Requirement already satisfied: urllib3<1.27,>=1.21.1 in c:\\users\\owner\\appdata\\roaming\\python\\python310\\site-packages (from requests->webdriver-manager) (1.26.9)\n",
      "Requirement already satisfied: certifi>=2017.4.17 in c:\\users\\owner\\appdata\\roaming\\python\\python310\\site-packages (from requests->webdriver-manager) (2021.10.8)\n"
     ]
    },
    {
     "name": "stderr",
     "output_type": "stream",
     "text": [
      "DEPRECATION: textract 1.6.5 has a non-standard dependency specifier extract-msg<=0.29.*. pip 23.3 will enforce this behaviour change. A possible replacement is to upgrade to a newer version of textract or contact the author to suggest that they release a version with a conforming dependency specifiers. Discussion can be found at https://github.com/pypa/pip/issues/12063\n"
     ]
    }
   ],
   "source": [
    "!pip install selenium\n",
    "!pip install webdriver-manager"
   ]
  },
  {
   "cell_type": "code",
   "execution_count": 3,
   "metadata": {},
   "outputs": [
    {
     "name": "stdout",
     "output_type": "stream",
     "text": [
      "\n"
     ]
    }
   ],
   "source": [
    "#With Automatic updade function of selenium\n",
    "from selenium import webdriver\n",
    "from selenium.webdriver.chrome.service import Service as ChromeService\n",
    "from selenium.webdriver.support import expected_conditions as EC\n",
    "from webdriver_manager.chrome import ChromeDriverManager\n",
    "from selenium.webdriver.common.by import By\n",
    "import time\n",
    "import random\n",
    "import re\n",
    "\n",
    "#Function to get URL in text file\n",
    "def get_url_from_file(file_path):\n",
    "    with open(file_path, 'r') as file:\n",
    "        url = file.readline().strip()\n",
    "        return url\n",
    "\n",
    "file_path = r'./info.txt'\n",
    "URL = get_url_from_file(file_path)\n",
    "print()\n",
    "\n",
    "driver = webdriver.Chrome(service=ChromeService(ChromeDriverManager().install()))\n",
    "driver.implicitly_wait(10)\n",
    "driver.get(URL)\n",
    "\n",
    "# login\n",
    "try:\n",
    "    element = driver.find_element(\"xpath\", \"/html/body/div[1]/div[3]/header/div/div[6]/a\").click()\n",
    "    element = driver.find_element(\"xpath\", '//*[@id=\"i0116\"]')\n",
    "    element.send_keys(Mail_Address)\n",
    "    element = driver.find_element(\"xpath\", '//*[@id=\"idSIButton9\"]').click()\n",
    "    time.sleep(1)\n",
    "    element = driver.find_element(\"xpath\", '//*[@id=\"idSIButton9\"]').click()\n",
    "    time.sleep(20)\n",
    "    element = driver.find_element(\"xpath\", '//*[@id=\"idSIButton9\"]').click()\n",
    "    time.sleep(1)\n",
    "except:\n",
    "    None"
   ]
  },
  {
   "cell_type": "code",
   "execution_count": 4,
   "metadata": {},
   "outputs": [
    {
     "name": "stdout",
     "output_type": "stream",
     "text": [
      "https://learn.microsoft.com/en-us/training/modules/introduction-to-machine-learning/?ns-enrollment-type=Collection&ns-enrollment-id=3127bwzdp2z2\n",
      "https://learn.microsoft.com/en-us/training/modules/explore-azure-openai/?ns-enrollment-type=Collection&ns-enrollment-id=3127bwzdp2z2\n",
      "https://learn.microsoft.com/en-us/training/modules/get-started-ai-fundamentals/?ns-enrollment-type=Collection&ns-enrollment-id=3127bwzdp2z2\n",
      "https://learn.microsoft.com/en-us/training/modules/use-automated-machine-learning/?ns-enrollment-type=Collection&ns-enrollment-id=3127bwzdp2z2\n",
      "https://learn.microsoft.com/en-us/training/modules/create-regression-model-azure-machine-learning-designer/?ns-enrollment-type=Collection&ns-enrollment-id=3127bwzdp2z2\n",
      "https://learn.microsoft.com/en-us/training/modules/create-classification-model-azure-machine-learning-designer/?ns-enrollment-type=Collection&ns-enrollment-id=3127bwzdp2z2\n",
      "https://learn.microsoft.com/en-us/training/modules/create-clustering-model-azure-machine-learning-designer/?ns-enrollment-type=Collection&ns-enrollment-id=3127bwzdp2z2\n",
      "https://learn.microsoft.com/en-us/training/modules/introduction-to-data-for-machine-learning/?ns-enrollment-type=Collection&ns-enrollment-id=3127bwzdp2z2\n",
      "https://learn.microsoft.com/en-us/training/modules/introduction-to-classical-machine-learning/?ns-enrollment-type=Collection&ns-enrollment-id=3127bwzdp2z2\n",
      "https://learn.microsoft.com/en-us/training/modules/understand-regression-machine-learning/?ns-enrollment-type=Collection&ns-enrollment-id=3127bwzdp2z2\n",
      "https://learn.microsoft.com/en-us/training/modules/test-machine-learning-models/?ns-enrollment-type=Collection&ns-enrollment-id=3127bwzdp2z2\n",
      "https://learn.microsoft.com/en-us/training/modules/understand-classification-machine-learning/?ns-enrollment-type=Collection&ns-enrollment-id=3127bwzdp2z2\n",
      "https://learn.microsoft.com/en-us/training/modules/machine-learning-architectures-and-hyperparameters/?ns-enrollment-type=Collection&ns-enrollment-id=3127bwzdp2z2\n",
      "https://learn.microsoft.com/en-us/training/modules/machine-learning-confusion-matrix/?ns-enrollment-type=Collection&ns-enrollment-id=3127bwzdp2z2\n",
      "https://learn.microsoft.com/en-us/training/modules/optimize-model-performance-roc-auc/?ns-enrollment-type=Collection&ns-enrollment-id=3127bwzdp2z2\n",
      "https://learn.microsoft.com/en-us/training/modules/get-started-with-ai-builder/?ns-enrollment-type=Collection&ns-enrollment-id=3127bwzdp2z2\n",
      "https://learn.microsoft.com/en-us/training/modules/manage-models/?ns-enrollment-type=Collection&ns-enrollment-id=3127bwzdp2z2\n",
      "https://learn.microsoft.com/en-us/training/modules/get-started-with-ai-builder-sentiment-analysis/?ns-enrollment-type=Collection&ns-enrollment-id=3127bwzdp2z2\n",
      "https://learn.microsoft.com/en-us/training/modules/design-machine-learning-model-training-solution/?ns-enrollment-type=Collection&ns-enrollment-id=3127bwzdp2z2\n",
      "https://learn.microsoft.com/en-us/training/modules/design-data-ingestion-strategy-for-machine-learning-projects/?ns-enrollment-type=Collection&ns-enrollment-id=3127bwzdp2z2\n",
      "https://learn.microsoft.com/en-us/training/modules/design-model-deployment-solution/?ns-enrollment-type=Collection&ns-enrollment-id=3127bwzdp2z2\n",
      "https://learn.microsoft.com/en-us/training/modules/design-machine-learning-operations-solution/?ns-enrollment-type=Collection&ns-enrollment-id=3127bwzdp2z2\n",
      "https://learn.microsoft.com/en-us/training/modules/fundamentals-generative-ai/?ns-enrollment-type=Collection&ns-enrollment-id=3127bwzdp2z2\n",
      "https://learn.microsoft.com/en-us/training/modules/responsible-generative-ai/?ns-enrollment-type=Collection&ns-enrollment-id=3127bwzdp2z2\n",
      "https://learn.microsoft.com/en-us/training/modules/intro-to-azure-search/?ns-enrollment-type=Collection&ns-enrollment-id=3127bwzdp2z2\n",
      "https://learn.microsoft.com/en-us/training/modules/introduction-to-iot-hub/?ns-enrollment-type=Collection&ns-enrollment-id=3127bwzdp2z2\n",
      "https://learn.microsoft.com/en-us/training/modules/introduction-iot-edge/?ns-enrollment-type=Collection&ns-enrollment-id=3127bwzdp2z2\n",
      "https://learn.microsoft.com/en-us/training/modules/deploy-prebuilt-module-edge-device/?ns-enrollment-type=Collection&ns-enrollment-id=3127bwzdp2z2\n",
      "https://learn.microsoft.com/en-us/training/modules/intro-azure-functions-iot/?ns-enrollment-type=Collection&ns-enrollment-id=3127bwzdp2z2\n",
      "https://learn.microsoft.com/en-us/training/modules/connecting-iot-devices-cognitive-services-azure-functions/?ns-enrollment-type=Collection&ns-enrollment-id=3127bwzdp2z2\n",
      "https://learn.microsoft.com/en-us/training/modules/run-cognitive-services-iot-edge/?ns-enrollment-type=Collection&ns-enrollment-id=3127bwzdp2z2\n",
      "https://learn.microsoft.com/en-us/training/modules/intro-mlops-iot-edge/?ns-enrollment-type=Collection&ns-enrollment-id=3127bwzdp2z2\n",
      "https://learn.microsoft.com/en-us/training/modules/implement-cicd-iot-edge/?ns-enrollment-type=Collection&ns-enrollment-id=3127bwzdp2z2\n",
      "https://learn.microsoft.com/en-us/training/modules/intro-azure-sphere/?ns-enrollment-type=Collection&ns-enrollment-id=3127bwzdp2z2\n",
      "https://learn.microsoft.com/en-us/training/modules/image-classification-azure-sphere/?ns-enrollment-type=Collection&ns-enrollment-id=3127bwzdp2z2\n",
      "https://learn.microsoft.com/en-us/training/modules/develop-secure-iot-solutions-azure-sphere-iot-hub/?ns-enrollment-type=Collection&ns-enrollment-id=3127bwzdp2z2\n",
      "https://learn.microsoft.com/en-us/training/modules/develop-secure-iot-solutions-azure-sphere-iot-central/?ns-enrollment-type=Collection&ns-enrollment-id=3127bwzdp2z2\n",
      "https://learn.microsoft.com/en-us/training/modules/create-image-recognition-solution-iot-edge-cognitive-services/?ns-enrollment-type=Collection&ns-enrollment-id=3127bwzdp2z2\n",
      "https://learn.microsoft.com/en-us/training/modules/void-detection-edge-devices-live-video-analytics/?ns-enrollment-type=Collection&ns-enrollment-id=3127bwzdp2z2\n",
      "https://learn.microsoft.com/en-us/training/modules/object-detection-iot-edge-live-video-analytics/?ns-enrollment-type=Collection&ns-enrollment-id=3127bwzdp2z2\n"
     ]
    }
   ],
   "source": [
    "driver.get(URL)\n",
    "\n",
    "items_list = driver.find_element(\"id\", \"items-list\")\n",
    "links = items_list.find_elements(\"tag name\", \"a\")\n",
    "modules_urls = [link.get_attribute(\"href\") for link in links]\n",
    "for modules_url in modules_urls:\n",
    "    print(modules_url)"
   ]
  },
  {
   "cell_type": "markdown",
   "metadata": {},
   "source": [
    "MODULEごとに周回"
   ]
  },
  {
   "cell_type": "code",
   "execution_count": 5,
   "metadata": {},
   "outputs": [
    {
     "name": "stdout",
     "output_type": "stream",
     "text": [
      "Unit count: 9\n",
      "Test count: 7\n",
      "Total characters: 1908\n",
      "Wait random time: 1.386947132522541\n",
      "Total characters: 5006\n",
      "Wait random time: 7.398079580748333\n",
      "Total characters: 7594\n",
      "Wait random time: 10.185788579869183\n",
      "Total characters: 9913\n",
      "Wait random time: 16.502492069982633\n",
      "Total characters: 11211\n",
      "Wait random time: 19.699242935558637\n",
      "Total characters: 14112\n",
      "Wait random time: 12.535096696199153\n",
      "Total characters: 15753\n",
      "Wait random time: 21.72246721624314\n",
      "//*[@id=\"unit-inner-section\"]/form/fieldset/div/div[1]/div/div[2]/label[3]\n",
      "Wait select random time: 2.172246721624314\n",
      "//*[@id=\"unit-inner-section\"]/form/fieldset/div/div[2]/div/div[2]/label[1]\n",
      "Wait select random time: 2.172246721624314\n",
      "//*[@id=\"unit-inner-section\"]/form/fieldset/div/div[3]/div/div[2]/label[2]\n",
      "Wait select random time: 2.172246721624314\n",
      "//*[@id=\"unit-inner-section\"]/form/fieldset/div/div[4]/div/div[2]/label[1]\n",
      "Wait select random time: 2.172246721624314\n"
     ]
    },
    {
     "ename": "ElementNotInteractableException",
     "evalue": "Message: element not interactable\n  (Session info: chrome=116.0.5845.188)\nStacktrace:\n\tGetHandleVerifier [0x00E237C3+48947]\n\t(No symbol) [0x00DB8551]\n\t(No symbol) [0x00CBC7F0]\n\t(No symbol) [0x00CEAAC8]\n\t(No symbol) [0x00CE3420]\n\t(No symbol) [0x00D0508C]\n\t(No symbol) [0x00CE2EB6]\n\t(No symbol) [0x00D053E4]\n\t(No symbol) [0x00D175DA]\n\t(No symbol) [0x00D04E86]\n\t(No symbol) [0x00CE16C7]\n\t(No symbol) [0x00CE284D]\n\tGetHandleVerifier [0x0106FDF9+2458985]\n\tGetHandleVerifier [0x010B744F+2751423]\n\tGetHandleVerifier [0x010B1361+2726609]\n\tGetHandleVerifier [0x00EA0680+560624]\n\t(No symbol) [0x00DC238C]\n\t(No symbol) [0x00DBE268]\n\t(No symbol) [0x00DBE392]\n\t(No symbol) [0x00DB10B7]\n\tBaseThreadInitThunk [0x768000C9+25]\n\tRtlGetAppContainerNamedObjectPath [0x77177B1E+286]\n\tRtlGetAppContainerNamedObjectPath [0x77177AEE+238]\n",
     "output_type": "error",
     "traceback": [
      "\u001b[1;31m---------------------------------------------------------------------------\u001b[0m",
      "\u001b[1;31mElementNotInteractableException\u001b[0m           Traceback (most recent call last)",
      "\u001b[1;32mg:\\Auto-MSchallenge\\Auto-MSchallengeV9.ipynb セル 8\u001b[0m line \u001b[0;36m<cell line: 1>\u001b[1;34m()\u001b[0m\n\u001b[0;32m     <a href='vscode-notebook-cell:/g%3A/Auto-MSchallenge/Auto-MSchallengeV9.ipynb#X10sZmlsZQ%3D%3D?line=76'>77</a>\u001b[0m \u001b[39mprint\u001b[39m(\u001b[39m\"\u001b[39m\u001b[39mWait select random time:\u001b[39m\u001b[39m\"\u001b[39m, random_number)\n\u001b[0;32m     <a href='vscode-notebook-cell:/g%3A/Auto-MSchallenge/Auto-MSchallengeV9.ipynb#X10sZmlsZQ%3D%3D?line=77'>78</a>\u001b[0m time\u001b[39m.\u001b[39msleep(random_number)\n\u001b[1;32m---> <a href='vscode-notebook-cell:/g%3A/Auto-MSchallenge/Auto-MSchallengeV9.ipynb#X10sZmlsZQ%3D%3D?line=78'>79</a>\u001b[0m driver\u001b[39m.\u001b[39;49mfind_element(By\u001b[39m.\u001b[39;49mXPATH, \u001b[39m'\u001b[39;49m\u001b[39m//*[@id=\u001b[39;49m\u001b[39m\"\u001b[39;49m\u001b[39mquiz-button-holder\u001b[39;49m\u001b[39m\"\u001b[39;49m\u001b[39m]/div/a/span[1]\u001b[39;49m\u001b[39m'\u001b[39;49m)\u001b[39m.\u001b[39;49mclick()\n\u001b[0;32m     <a href='vscode-notebook-cell:/g%3A/Auto-MSchallenge/Auto-MSchallengeV9.ipynb#X10sZmlsZQ%3D%3D?line=79'>80</a>\u001b[0m \u001b[39mprint\u001b[39m(\u001b[39m\"\u001b[39m\u001b[39mWait select random time:\u001b[39m\u001b[39m\"\u001b[39m, random_number)\n\u001b[0;32m     <a href='vscode-notebook-cell:/g%3A/Auto-MSchallenge/Auto-MSchallengeV9.ipynb#X10sZmlsZQ%3D%3D?line=80'>81</a>\u001b[0m time\u001b[39m.\u001b[39msleep(random_number)\n",
      "File \u001b[1;32m~\\AppData\\Roaming\\Python\\Python310\\site-packages\\selenium\\webdriver\\remote\\webelement.py:93\u001b[0m, in \u001b[0;36mWebElement.click\u001b[1;34m(self)\u001b[0m\n\u001b[0;32m     91\u001b[0m \u001b[39mdef\u001b[39;00m \u001b[39mclick\u001b[39m(\u001b[39mself\u001b[39m) \u001b[39m-\u001b[39m\u001b[39m>\u001b[39m \u001b[39mNone\u001b[39;00m:\n\u001b[0;32m     92\u001b[0m     \u001b[39m\"\"\"Clicks the element.\"\"\"\u001b[39;00m\n\u001b[1;32m---> 93\u001b[0m     \u001b[39mself\u001b[39;49m\u001b[39m.\u001b[39;49m_execute(Command\u001b[39m.\u001b[39;49mCLICK_ELEMENT)\n",
      "File \u001b[1;32m~\\AppData\\Roaming\\Python\\Python310\\site-packages\\selenium\\webdriver\\remote\\webelement.py:394\u001b[0m, in \u001b[0;36mWebElement._execute\u001b[1;34m(self, command, params)\u001b[0m\n\u001b[0;32m    392\u001b[0m     params \u001b[39m=\u001b[39m {}\n\u001b[0;32m    393\u001b[0m params[\u001b[39m\"\u001b[39m\u001b[39mid\u001b[39m\u001b[39m\"\u001b[39m] \u001b[39m=\u001b[39m \u001b[39mself\u001b[39m\u001b[39m.\u001b[39m_id\n\u001b[1;32m--> 394\u001b[0m \u001b[39mreturn\u001b[39;00m \u001b[39mself\u001b[39;49m\u001b[39m.\u001b[39;49m_parent\u001b[39m.\u001b[39;49mexecute(command, params)\n",
      "File \u001b[1;32m~\\AppData\\Roaming\\Python\\Python310\\site-packages\\selenium\\webdriver\\remote\\webdriver.py:344\u001b[0m, in \u001b[0;36mWebDriver.execute\u001b[1;34m(self, driver_command, params)\u001b[0m\n\u001b[0;32m    342\u001b[0m response \u001b[39m=\u001b[39m \u001b[39mself\u001b[39m\u001b[39m.\u001b[39mcommand_executor\u001b[39m.\u001b[39mexecute(driver_command, params)\n\u001b[0;32m    343\u001b[0m \u001b[39mif\u001b[39;00m response:\n\u001b[1;32m--> 344\u001b[0m     \u001b[39mself\u001b[39;49m\u001b[39m.\u001b[39;49merror_handler\u001b[39m.\u001b[39;49mcheck_response(response)\n\u001b[0;32m    345\u001b[0m     response[\u001b[39m\"\u001b[39m\u001b[39mvalue\u001b[39m\u001b[39m\"\u001b[39m] \u001b[39m=\u001b[39m \u001b[39mself\u001b[39m\u001b[39m.\u001b[39m_unwrap_value(response\u001b[39m.\u001b[39mget(\u001b[39m\"\u001b[39m\u001b[39mvalue\u001b[39m\u001b[39m\"\u001b[39m, \u001b[39mNone\u001b[39;00m))\n\u001b[0;32m    346\u001b[0m     \u001b[39mreturn\u001b[39;00m response\n",
      "File \u001b[1;32m~\\AppData\\Roaming\\Python\\Python310\\site-packages\\selenium\\webdriver\\remote\\errorhandler.py:229\u001b[0m, in \u001b[0;36mErrorHandler.check_response\u001b[1;34m(self, response)\u001b[0m\n\u001b[0;32m    227\u001b[0m         alert_text \u001b[39m=\u001b[39m value[\u001b[39m\"\u001b[39m\u001b[39malert\u001b[39m\u001b[39m\"\u001b[39m]\u001b[39m.\u001b[39mget(\u001b[39m\"\u001b[39m\u001b[39mtext\u001b[39m\u001b[39m\"\u001b[39m)\n\u001b[0;32m    228\u001b[0m     \u001b[39mraise\u001b[39;00m exception_class(message, screen, stacktrace, alert_text)  \u001b[39m# type: ignore[call-arg]  # mypy is not smart enough here\u001b[39;00m\n\u001b[1;32m--> 229\u001b[0m \u001b[39mraise\u001b[39;00m exception_class(message, screen, stacktrace)\n",
      "\u001b[1;31mElementNotInteractableException\u001b[0m: Message: element not interactable\n  (Session info: chrome=116.0.5845.188)\nStacktrace:\n\tGetHandleVerifier [0x00E237C3+48947]\n\t(No symbol) [0x00DB8551]\n\t(No symbol) [0x00CBC7F0]\n\t(No symbol) [0x00CEAAC8]\n\t(No symbol) [0x00CE3420]\n\t(No symbol) [0x00D0508C]\n\t(No symbol) [0x00CE2EB6]\n\t(No symbol) [0x00D053E4]\n\t(No symbol) [0x00D175DA]\n\t(No symbol) [0x00D04E86]\n\t(No symbol) [0x00CE16C7]\n\t(No symbol) [0x00CE284D]\n\tGetHandleVerifier [0x0106FDF9+2458985]\n\tGetHandleVerifier [0x010B744F+2751423]\n\tGetHandleVerifier [0x010B1361+2726609]\n\tGetHandleVerifier [0x00EA0680+560624]\n\t(No symbol) [0x00DC238C]\n\t(No symbol) [0x00DBE268]\n\t(No symbol) [0x00DBE392]\n\t(No symbol) [0x00DB10B7]\n\tBaseThreadInitThunk [0x768000C9+25]\n\tRtlGetAppContainerNamedObjectPath [0x77177B1E+286]\n\tRtlGetAppContainerNamedObjectPath [0x77177AEE+238]\n"
     ]
    }
   ],
   "source": [
    "for modules_url in modules_urls:\n",
    "    driver.get(modules_url)\n",
    "    time.sleep(1)\n",
    "    \n",
    "    #ユニット数を取得\n",
    "    element = driver.find_element(\"xpath\",'//*[@id=\"main\"]/div[3]/div/div/div/div/div/div/div[2]/div/ul/li[3]')\n",
    "    text = element.text\n",
    "    try:\n",
    "        if \"ユニット\" in text:\n",
    "            modified_text = int(re.search(r\"/(\\d+)\\sユニット\", text).group(1))-int(text.split('/')[0])-2\n",
    "        else:\n",
    "            modified_text = int(re.search(r\"/(\\d+)\\sUnits\", text).group(1))-int(text.split('/')[0])-2\n",
    "    except:\n",
    "        if \"ユニット\" in text:\n",
    "            modified_text = text.replace(\" ユニット\", \"\")\n",
    "        else:\n",
    "            modified_text = text.replace(\" Units\", \"\")\n",
    "    unit_number = int(modified_text)\n",
    "    test_unit_number =unit_number-2\n",
    "    \n",
    "    # 開始ボタンをクリックする\n",
    "    try:\n",
    "        driver.find_element(By.XPATH, '//*[@id=\"start-unit\"]').click()\n",
    "    except:\n",
    "        print(\"End module\")\n",
    "        continue\n",
    "    \n",
    "    print(\"Unit count:\", unit_number)\n",
    "    print(\"Test count:\", test_unit_number)\n",
    "\n",
    "    random_number=0\n",
    "    #知識チェックセクション前\n",
    "    for unit in range(test_unit_number):\n",
    "        # 要素内のテキストから待機時間を算出\n",
    "        time.sleep(3)\n",
    "        child_elements = driver.find_elements(\"xpath\", '//*[@id=\"unit-inner-section\"]/*')\n",
    "        for child_element in child_elements:\n",
    "            text += child_element.text\n",
    "        total_characters = len(text)\n",
    "        print(\"Total characters:\", total_characters)\n",
    "        number = total_characters\n",
    "        \n",
    "        # Settime(shortA)\n",
    "        lower_bound = number / 500\n",
    "        upper_bound = number / 5000\n",
    "        # Settime(shortB)\n",
    "        # lower_bound = number / 50\n",
    "        # upper_bound = number / 500\n",
    "        # Settime(Real)\n",
    "        # lower_bound = number / 5\n",
    "        # upper_bound = number / 50\n",
    "        \n",
    "        random_number = random.uniform(lower_bound, upper_bound)\n",
    "        print(\"Wait random time:\", random_number)\n",
    "        time.sleep(random_number)\n",
    "        driver.find_element(By.XPATH, '//*[@id=\"next-section\"]/div/div/p/a').click()\n",
    "\n",
    "    # 知識セクション選択\n",
    "    driver.implicitly_wait(3)\n",
    "\n",
    "    numbers = [str(random.randint(1, 3)) for _ in range(10)]\n",
    "    select_number = ''.join(numbers)\n",
    "\n",
    "    random_number=random_number/10\n",
    "    for i in range(999):\n",
    "        try:\n",
    "            question_element =  '//*[@id=\"unit-inner-section\"]/form/fieldset/div/div['+str(i+1)+']/div/div[2]/label['+str(select_number[i])+']'\n",
    "            print(question_element)\n",
    "            driver.find_element(By.XPATH, question_element).click()\n",
    "            print(\"Wait select random time:\", random_number)\n",
    "            time.sleep(random_number)\n",
    "        except:\n",
    "            break\n",
    "\n",
    "    driver.implicitly_wait(10)\n",
    "    driver.find_element(By.XPATH, '//*[@id=\"unit-inner-section\"]/form/fieldset/button').click()\n",
    "    print(\"Wait select random time:\", random_number)\n",
    "    time.sleep(random_number)\n",
    "    driver.find_element(By.XPATH, '//*[@id=\"quiz-button-holder\"]/div/a/span[1]').click()\n",
    "    print(\"Wait select random time:\", random_number)\n",
    "    time.sleep(random_number)\n",
    "    # driver.find_element(By.XPATH, '//*[@id=\"next-section\"]/div/div/p/a').click()\n",
    "    # print(\"Wait select random time:\", random_number)\n",
    "    # time.sleep(random_number)"
   ]
  },
  {
   "cell_type": "code",
   "execution_count": null,
   "metadata": {},
   "outputs": [],
   "source": [
    "# Close the WebDriver\n",
    "driver.quit()"
   ]
  }
 ],
 "metadata": {
  "kernelspec": {
   "display_name": "Python 3",
   "language": "python",
   "name": "python3"
  },
  "language_info": {
   "codemirror_mode": {
    "name": "ipython",
    "version": 3
   },
   "file_extension": ".py",
   "mimetype": "text/x-python",
   "name": "python",
   "nbconvert_exporter": "python",
   "pygments_lexer": "ipython3",
   "version": "3.10.2"
  },
  "orig_nbformat": 4
 },
 "nbformat": 4,
 "nbformat_minor": 2
}
