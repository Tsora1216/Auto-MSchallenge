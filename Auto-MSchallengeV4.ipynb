{
 "cells": [
  {
   "cell_type": "markdown",
   "metadata": {},
   "source": [
    "Setup"
   ]
  },
  {
   "cell_type": "code",
   "execution_count": 1,
   "metadata": {},
   "outputs": [
    {
     "name": "stdout",
     "output_type": "stream",
     "text": [
      "Defaulting to user installation because normal site-packages is not writeable\n",
      "Requirement already satisfied: selenium in c:\\users\\so12r\\appdata\\roaming\\python\\python311\\site-packages (4.11.2)\n",
      "Requirement already satisfied: urllib3[socks]<3,>=1.26 in c:\\users\\so12r\\appdata\\roaming\\python\\python311\\site-packages (from selenium) (1.26.16)\n",
      "Requirement already satisfied: trio~=0.17 in c:\\users\\so12r\\appdata\\roaming\\python\\python311\\site-packages (from selenium) (0.22.2)\n",
      "Requirement already satisfied: trio-websocket~=0.9 in c:\\users\\so12r\\appdata\\roaming\\python\\python311\\site-packages (from selenium) (0.10.3)\n",
      "Requirement already satisfied: certifi>=2021.10.8 in c:\\users\\so12r\\appdata\\roaming\\python\\python311\\site-packages (from selenium) (2023.7.22)\n",
      "Requirement already satisfied: attrs>=20.1.0 in c:\\users\\so12r\\appdata\\roaming\\python\\python311\\site-packages (from trio~=0.17->selenium) (23.1.0)\n",
      "Requirement already satisfied: sortedcontainers in c:\\users\\so12r\\appdata\\roaming\\python\\python311\\site-packages (from trio~=0.17->selenium) (2.4.0)\n",
      "Requirement already satisfied: idna in c:\\users\\so12r\\appdata\\roaming\\python\\python311\\site-packages (from trio~=0.17->selenium) (3.4)\n",
      "Requirement already satisfied: outcome in c:\\users\\so12r\\appdata\\roaming\\python\\python311\\site-packages (from trio~=0.17->selenium) (1.2.0)\n",
      "Requirement already satisfied: sniffio in c:\\users\\so12r\\appdata\\roaming\\python\\python311\\site-packages (from trio~=0.17->selenium) (1.3.0)\n",
      "Requirement already satisfied: cffi>=1.14 in c:\\users\\so12r\\appdata\\roaming\\python\\python311\\site-packages (from trio~=0.17->selenium) (1.15.1)\n",
      "Requirement already satisfied: exceptiongroup in c:\\users\\so12r\\appdata\\roaming\\python\\python311\\site-packages (from trio-websocket~=0.9->selenium) (1.1.2)\n",
      "Requirement already satisfied: wsproto>=0.14 in c:\\users\\so12r\\appdata\\roaming\\python\\python311\\site-packages (from trio-websocket~=0.9->selenium) (1.2.0)\n",
      "Requirement already satisfied: PySocks!=1.5.7,<2.0,>=1.5.6 in c:\\users\\so12r\\appdata\\roaming\\python\\python311\\site-packages (from urllib3[socks]<3,>=1.26->selenium) (1.7.1)\n",
      "Requirement already satisfied: pycparser in c:\\users\\so12r\\appdata\\roaming\\python\\python311\\site-packages (from cffi>=1.14->trio~=0.17->selenium) (2.21)\n",
      "Requirement already satisfied: h11<1,>=0.9.0 in c:\\users\\so12r\\appdata\\roaming\\python\\python311\\site-packages (from wsproto>=0.14->trio-websocket~=0.9->selenium) (0.14.0)\n"
     ]
    },
    {
     "name": "stderr",
     "output_type": "stream",
     "text": [
      "\n",
      "[notice] A new release of pip is available: 23.1.2 -> 23.2.1\n",
      "[notice] To update, run: python.exe -m pip install --upgrade pip\n"
     ]
    },
    {
     "name": "stdout",
     "output_type": "stream",
     "text": [
      "Defaulting to user installation because normal site-packages is not writeable\n",
      "Requirement already satisfied: webdriver-manager in c:\\users\\so12r\\appdata\\roaming\\python\\python311\\site-packages (4.0.0)\n",
      "Requirement already satisfied: requests in c:\\users\\so12r\\appdata\\roaming\\python\\python311\\site-packages (from webdriver-manager) (2.28.2)\n",
      "Requirement already satisfied: python-dotenv in c:\\users\\so12r\\appdata\\roaming\\python\\python311\\site-packages (from webdriver-manager) (1.0.0)\n",
      "Requirement already satisfied: packaging in c:\\users\\so12r\\appdata\\roaming\\python\\python311\\site-packages (from webdriver-manager) (23.1)\n",
      "Requirement already satisfied: charset-normalizer<4,>=2 in c:\\users\\so12r\\appdata\\roaming\\python\\python311\\site-packages (from requests->webdriver-manager) (3.2.0)\n",
      "Requirement already satisfied: idna<4,>=2.5 in c:\\users\\so12r\\appdata\\roaming\\python\\python311\\site-packages (from requests->webdriver-manager) (3.4)\n",
      "Requirement already satisfied: urllib3<1.27,>=1.21.1 in c:\\users\\so12r\\appdata\\roaming\\python\\python311\\site-packages (from requests->webdriver-manager) (1.26.16)\n",
      "Requirement already satisfied: certifi>=2017.4.17 in c:\\users\\so12r\\appdata\\roaming\\python\\python311\\site-packages (from requests->webdriver-manager) (2023.7.22)\n"
     ]
    },
    {
     "name": "stderr",
     "output_type": "stream",
     "text": [
      "\n",
      "[notice] A new release of pip is available: 23.1.2 -> 23.2.1\n",
      "[notice] To update, run: python.exe -m pip install --upgrade pip\n"
     ]
    }
   ],
   "source": [
    "!pip install selenium\n",
    "!pip install webdriver-manager"
   ]
  },
  {
   "cell_type": "code",
   "execution_count": 2,
   "metadata": {},
   "outputs": [
    {
     "name": "stdout",
     "output_type": "stream",
     "text": [
      "\n",
      "https://learn.microsoft.com/ja-jp/training/modules/get-started-ai-fundamentals/?ns-enrollment-type=Collection&ns-enrollment-id=n52yh22ezxqp\n",
      "https://learn.microsoft.com/ja-jp/training/modules/introduction-to-github-copilot/?ns-enrollment-type=Collection&ns-enrollment-id=n52yh22ezxqp\n",
      "https://learn.microsoft.com/ja-jp/training/modules/create-manage-cognitive-services/?ns-enrollment-type=Collection&ns-enrollment-id=n52yh22ezxqp\n",
      "https://learn.microsoft.com/ja-jp/training/modules/secure-cognitive-services/?ns-enrollment-type=Collection&ns-enrollment-id=n52yh22ezxqp\n",
      "https://learn.microsoft.com/ja-jp/training/modules/monitor-cognitive-services/?ns-enrollment-type=Collection&ns-enrollment-id=n52yh22ezxqp\n",
      "https://learn.microsoft.com/ja-jp/training/modules/investigate-container-for-use-cognitive-services/?ns-enrollment-type=Collection&ns-enrollment-id=n52yh22ezxqp\n",
      "https://learn.microsoft.com/ja-jp/training/modules/explore-azure-openai/?ns-enrollment-type=Collection&ns-enrollment-id=n52yh22ezxqp\n",
      "https://learn.microsoft.com/ja-jp/training/modules/build-language-understanding-model/?ns-enrollment-type=Collection&ns-enrollment-id=n52yh22ezxqp\n",
      "https://learn.microsoft.com/ja-jp/training/modules/publish-use-language-understand-app/?ns-enrollment-type=Collection&ns-enrollment-id=n52yh22ezxqp\n",
      "https://learn.microsoft.com/ja-jp/training/modules/transcribe-speech-input-text/?ns-enrollment-type=Collection&ns-enrollment-id=n52yh22ezxqp\n",
      "https://learn.microsoft.com/ja-jp/training/modules/translate-speech-speech-service/?ns-enrollment-type=Collection&ns-enrollment-id=n52yh22ezxqp\n",
      "https://learn.microsoft.com/ja-jp/training/modules/extract-insights-text-with-text-analytics-service/?ns-enrollment-type=Collection&ns-enrollment-id=n52yh22ezxqp\n",
      "https://learn.microsoft.com/ja-jp/training/modules/translate-text-with-translator-service/?ns-enrollment-type=Collection&ns-enrollment-id=n52yh22ezxqp\n",
      "https://learn.microsoft.com/ja-jp/training/modules/explore-cognitive-services-vision/?ns-enrollment-type=Collection&ns-enrollment-id=n52yh22ezxqp\n",
      "https://learn.microsoft.com/ja-jp/training/modules/analyze-images/?ns-enrollment-type=Collection&ns-enrollment-id=n52yh22ezxqp\n",
      "https://learn.microsoft.com/ja-jp/training/modules/analyze-video/?ns-enrollment-type=Collection&ns-enrollment-id=n52yh22ezxqp\n",
      "https://learn.microsoft.com/ja-jp/training/modules/classify-images/?ns-enrollment-type=Collection&ns-enrollment-id=n52yh22ezxqp\n",
      "https://learn.microsoft.com/ja-jp/training/modules/detect-objects-images/?ns-enrollment-type=Collection&ns-enrollment-id=n52yh22ezxqp\n",
      "https://learn.microsoft.com/ja-jp/training/modules/detect-analyze-recognize-faces/?ns-enrollment-type=Collection&ns-enrollment-id=n52yh22ezxqp\n"
     ]
    }
   ],
   "source": [
    "#With Automatic updade function of selenium\n",
    "from selenium import webdriver\n",
    "from selenium.webdriver.chrome.service import Service as ChromeService\n",
    "from webdriver_manager.chrome import ChromeDriverManager\n",
    "from selenium.webdriver.common.by import By\n",
    "import time\n",
    "import random\n",
    "from selenium.webdriver.support.ui import WebDriverWait\n",
    "from selenium.webdriver.support import expected_conditions as EC\n",
    "\n",
    "\n",
    "#Function to get URL in text file\n",
    "def get_url_from_file(file_path):\n",
    "    with open(file_path, 'r') as file:\n",
    "        url = file.readline().strip()\n",
    "        return url\n",
    "\n",
    "file_path = r'./info.txt'\n",
    "URL = get_url_from_file(file_path)\n",
    "print()\n",
    "\n",
    "driver = webdriver.Chrome(service=ChromeService(ChromeDriverManager().install()))\n",
    "driver.implicitly_wait(10)\n",
    "driver.get(URL)\n",
    "\n",
    "items_list = driver.find_element(\"id\", \"items-list\")\n",
    "links = items_list.find_elements(\"tag name\", \"a\")\n",
    "modules_urls = [link.get_attribute(\"href\") for link in links]\n",
    "for modules_url in modules_urls:\n",
    "    print(modules_url)"
   ]
  },
  {
   "cell_type": "markdown",
   "metadata": {},
   "source": [
    "MODULEごとに周回"
   ]
  },
  {
   "cell_type": "code",
   "execution_count": 4,
   "metadata": {},
   "outputs": [
    {
     "name": "stdout",
     "output_type": "stream",
     "text": [
      "Unit count: 10\n",
      "Test count: 8\n"
     ]
    },
    {
     "ename": "StaleElementReferenceException",
     "evalue": "Message: stale element reference: stale element not found\n  (Session info: chrome=115.0.5790.171); For documentation on this error, please visit: https://www.selenium.dev/documentation/webdriver/troubleshooting/errors#stale-element-reference-exception\nStacktrace:\nBacktrace:\n\tGetHandleVerifier [0x00562B63+47795]\n\t(No symbol) [0x004F67E1]\n\t(No symbol) [0x003FC7ED]\n\t(No symbol) [0x00405C21]\n\t(No symbol) [0x003FFF36]\n\t(No symbol) [0x003FF10F]\n\t(No symbol) [0x00400F4A]\n\t(No symbol) [0x00400FF0]\n\t(No symbol) [0x004297B1]\n\t(No symbol) [0x00429B8B]\n\t(No symbol) [0x00422ED1]\n\t(No symbol) [0x00444D14]\n\t(No symbol) [0x00422BC6]\n\t(No symbol) [0x00445024]\n\t(No symbol) [0x004571DA]\n\t(No symbol) [0x00444AC6]\n\t(No symbol) [0x004213D7]\n\t(No symbol) [0x0042255D]\n\tGetHandleVerifier [0x007B6F89+2490073]\n\tGetHandleVerifier [0x007FC361+2773681]\n\tGetHandleVerifier [0x007F6211+2748769]\n\tGetHandleVerifier [0x005E16B0+566784]\n\t(No symbol) [0x0050019A]\n\t(No symbol) [0x004FC418]\n\t(No symbol) [0x004FC4FB]\n\t(No symbol) [0x004EF317]\n\tBaseThreadInitThunk [0x760E7D59+25]\n\tRtlInitializeExceptionChain [0x7757B79B+107]\n\tRtlClearBits [0x7757B71F+191]\n",
     "output_type": "error",
     "traceback": [
      "\u001b[1;31m---------------------------------------------------------------------------\u001b[0m",
      "\u001b[1;31mStaleElementReferenceException\u001b[0m            Traceback (most recent call last)",
      "Cell \u001b[1;32mIn[4], line 23\u001b[0m\n\u001b[0;32m     20\u001b[0m \u001b[39mfor\u001b[39;00m unit \u001b[39min\u001b[39;00m \u001b[39mrange\u001b[39m(test_unit_number):\n\u001b[0;32m     21\u001b[0m     \u001b[39m# 要素内のテキストから待機時間を算出\u001b[39;00m\n\u001b[0;32m     22\u001b[0m     text \u001b[39m=\u001b[39m driver\u001b[39m.\u001b[39mfind_element(\u001b[39m\"\u001b[39m\u001b[39mid\u001b[39m\u001b[39m\"\u001b[39m, \u001b[39m\"\u001b[39m\u001b[39munit-inner-section\u001b[39m\u001b[39m\"\u001b[39m)\u001b[39m.\u001b[39mtext\n\u001b[1;32m---> 23\u001b[0m     child_elements \u001b[39m=\u001b[39m element\u001b[39m.\u001b[39;49mfind_elements(\u001b[39m\"\u001b[39;49m\u001b[39mxpath\u001b[39;49m\u001b[39m\"\u001b[39;49m, \u001b[39m\"\u001b[39;49m\u001b[39m.//*\u001b[39;49m\u001b[39m\"\u001b[39;49m)\n\u001b[0;32m     24\u001b[0m     \u001b[39mfor\u001b[39;00m child_element \u001b[39min\u001b[39;00m child_elements:\n\u001b[0;32m     25\u001b[0m         text \u001b[39m+\u001b[39m\u001b[39m=\u001b[39m child_element\u001b[39m.\u001b[39mtext\n",
      "File \u001b[1;32m~\\AppData\\Roaming\\Python\\Python311\\site-packages\\selenium\\webdriver\\remote\\webelement.py:439\u001b[0m, in \u001b[0;36mWebElement.find_elements\u001b[1;34m(self, by, value)\u001b[0m\n\u001b[0;32m    436\u001b[0m     by \u001b[39m=\u001b[39m By\u001b[39m.\u001b[39mCSS_SELECTOR\n\u001b[0;32m    437\u001b[0m     value \u001b[39m=\u001b[39m \u001b[39mf\u001b[39m\u001b[39m'\u001b[39m\u001b[39m[name=\u001b[39m\u001b[39m\"\u001b[39m\u001b[39m{\u001b[39;00mvalue\u001b[39m}\u001b[39;00m\u001b[39m\"\u001b[39m\u001b[39m]\u001b[39m\u001b[39m'\u001b[39m\n\u001b[1;32m--> 439\u001b[0m \u001b[39mreturn\u001b[39;00m \u001b[39mself\u001b[39;49m\u001b[39m.\u001b[39;49m_execute(Command\u001b[39m.\u001b[39;49mFIND_CHILD_ELEMENTS, {\u001b[39m\"\u001b[39;49m\u001b[39musing\u001b[39;49m\u001b[39m\"\u001b[39;49m: by, \u001b[39m\"\u001b[39;49m\u001b[39mvalue\u001b[39;49m\u001b[39m\"\u001b[39;49m: value})[\u001b[39m\"\u001b[39m\u001b[39mvalue\u001b[39m\u001b[39m\"\u001b[39m]\n",
      "File \u001b[1;32m~\\AppData\\Roaming\\Python\\Python311\\site-packages\\selenium\\webdriver\\remote\\webelement.py:395\u001b[0m, in \u001b[0;36mWebElement._execute\u001b[1;34m(self, command, params)\u001b[0m\n\u001b[0;32m    393\u001b[0m     params \u001b[39m=\u001b[39m {}\n\u001b[0;32m    394\u001b[0m params[\u001b[39m\"\u001b[39m\u001b[39mid\u001b[39m\u001b[39m\"\u001b[39m] \u001b[39m=\u001b[39m \u001b[39mself\u001b[39m\u001b[39m.\u001b[39m_id\n\u001b[1;32m--> 395\u001b[0m \u001b[39mreturn\u001b[39;00m \u001b[39mself\u001b[39;49m\u001b[39m.\u001b[39;49m_parent\u001b[39m.\u001b[39;49mexecute(command, params)\n",
      "File \u001b[1;32m~\\AppData\\Roaming\\Python\\Python311\\site-packages\\selenium\\webdriver\\remote\\webdriver.py:345\u001b[0m, in \u001b[0;36mWebDriver.execute\u001b[1;34m(self, driver_command, params)\u001b[0m\n\u001b[0;32m    343\u001b[0m response \u001b[39m=\u001b[39m \u001b[39mself\u001b[39m\u001b[39m.\u001b[39mcommand_executor\u001b[39m.\u001b[39mexecute(driver_command, params)\n\u001b[0;32m    344\u001b[0m \u001b[39mif\u001b[39;00m response:\n\u001b[1;32m--> 345\u001b[0m     \u001b[39mself\u001b[39;49m\u001b[39m.\u001b[39;49merror_handler\u001b[39m.\u001b[39;49mcheck_response(response)\n\u001b[0;32m    346\u001b[0m     response[\u001b[39m\"\u001b[39m\u001b[39mvalue\u001b[39m\u001b[39m\"\u001b[39m] \u001b[39m=\u001b[39m \u001b[39mself\u001b[39m\u001b[39m.\u001b[39m_unwrap_value(response\u001b[39m.\u001b[39mget(\u001b[39m\"\u001b[39m\u001b[39mvalue\u001b[39m\u001b[39m\"\u001b[39m, \u001b[39mNone\u001b[39;00m))\n\u001b[0;32m    347\u001b[0m     \u001b[39mreturn\u001b[39;00m response\n",
      "File \u001b[1;32m~\\AppData\\Roaming\\Python\\Python311\\site-packages\\selenium\\webdriver\\remote\\errorhandler.py:229\u001b[0m, in \u001b[0;36mErrorHandler.check_response\u001b[1;34m(self, response)\u001b[0m\n\u001b[0;32m    227\u001b[0m         alert_text \u001b[39m=\u001b[39m value[\u001b[39m\"\u001b[39m\u001b[39malert\u001b[39m\u001b[39m\"\u001b[39m]\u001b[39m.\u001b[39mget(\u001b[39m\"\u001b[39m\u001b[39mtext\u001b[39m\u001b[39m\"\u001b[39m)\n\u001b[0;32m    228\u001b[0m     \u001b[39mraise\u001b[39;00m exception_class(message, screen, stacktrace, alert_text)  \u001b[39m# type: ignore[call-arg]  # mypy is not smart enough here\u001b[39;00m\n\u001b[1;32m--> 229\u001b[0m \u001b[39mraise\u001b[39;00m exception_class(message, screen, stacktrace)\n",
      "\u001b[1;31mStaleElementReferenceException\u001b[0m: Message: stale element reference: stale element not found\n  (Session info: chrome=115.0.5790.171); For documentation on this error, please visit: https://www.selenium.dev/documentation/webdriver/troubleshooting/errors#stale-element-reference-exception\nStacktrace:\nBacktrace:\n\tGetHandleVerifier [0x00562B63+47795]\n\t(No symbol) [0x004F67E1]\n\t(No symbol) [0x003FC7ED]\n\t(No symbol) [0x00405C21]\n\t(No symbol) [0x003FFF36]\n\t(No symbol) [0x003FF10F]\n\t(No symbol) [0x00400F4A]\n\t(No symbol) [0x00400FF0]\n\t(No symbol) [0x004297B1]\n\t(No symbol) [0x00429B8B]\n\t(No symbol) [0x00422ED1]\n\t(No symbol) [0x00444D14]\n\t(No symbol) [0x00422BC6]\n\t(No symbol) [0x00445024]\n\t(No symbol) [0x004571DA]\n\t(No symbol) [0x00444AC6]\n\t(No symbol) [0x004213D7]\n\t(No symbol) [0x0042255D]\n\tGetHandleVerifier [0x007B6F89+2490073]\n\tGetHandleVerifier [0x007FC361+2773681]\n\tGetHandleVerifier [0x007F6211+2748769]\n\tGetHandleVerifier [0x005E16B0+566784]\n\t(No symbol) [0x0050019A]\n\t(No symbol) [0x004FC418]\n\t(No symbol) [0x004FC4FB]\n\t(No symbol) [0x004EF317]\n\tBaseThreadInitThunk [0x760E7D59+25]\n\tRtlInitializeExceptionChain [0x7757B79B+107]\n\tRtlClearBits [0x7757B71F+191]\n"
     ]
    }
   ],
   "source": [
    "for modules_url in modules_urls:\n",
    "    driver.get(modules_url)\n",
    "    time.sleep(1)\n",
    "    \n",
    "    #ユニット数を取得\n",
    "    element = driver.find_element(\"xpath\",'//*[@id=\"main\"]/div[3]/div/div/div/div/div/div/div[2]/div/ul/li[3]')\n",
    "    text = element.text\n",
    "    modified_text = text.replace(\" ユニット\", \"\")\n",
    "    unit_number = int(modified_text)\n",
    "    test_unit_number =unit_number-2\n",
    "    print(\"Unit count:\", unit_number)\n",
    "    print(\"Test count:\", test_unit_number)\n",
    "    \n",
    "    # 開始ボタンをクリックする\n",
    "    try:\n",
    "        driver.find_element(By.XPATH, '//*[@id=\"start-unit\"]').click()\n",
    "    except:\n",
    "        print(\"End module\")\n",
    "\n",
    "    for unit in range(test_unit_number):\n",
    "        # 要素内のテキストから待機時間を算出\n",
    "        text = driver.find_element(\"id\", \"unit-inner-section\").text\n",
    "        child_elements = element.find_elements(\"xpath\", \".//*\")\n",
    "        for child_element in child_elements:\n",
    "            text += child_element.text\n",
    "        total_characters = len(text)\n",
    "        print(\"Total characters:\", total_characters)\n",
    "        number = total_characters\n",
    "        \n",
    "        #test\n",
    "        lower_bound = number / 500\n",
    "        upper_bound = number / 5000\n",
    "        #real\n",
    "        #lower_bound = number / 5\n",
    "        #upper_bound = number / 50\n",
    "        \n",
    "        random_number = random.uniform(lower_bound, upper_bound)\n",
    "        print(\"Wait random time:\", random_number)\n",
    "        time.sleep(random_number)\n",
    "        driver.find_element(By.XPATH, '//*[@id=\"next-section\"]/div/div/p/a').click()"
   ]
  },
  {
   "cell_type": "code",
   "execution_count": null,
   "metadata": {},
   "outputs": [],
   "source": [
    "# idが\"element-id\"である要素を取得\n",
    "element = driver.find_element(\"id\", \"unit-inner-section\")\n",
    "\n",
    "# 要素内のテキストを取得\n",
    "text = element.text\n",
    "\n",
    "# 子要素のテキストを取得\n",
    "child_elements = element.find_elements(\"xpath\", \".//*\")\n",
    "for child_element in child_elements:\n",
    "    text += child_element.text\n",
    "\n",
    "# 文字数を合計\n",
    "total_characters = len(text)\n",
    "\n",
    "# 合計文字数を表示\n",
    "print(\"Total characters:\", total_characters)\n",
    "\n"
   ]
  },
  {
   "cell_type": "code",
   "execution_count": null,
   "metadata": {},
   "outputs": [],
   "source": [
    "# Close the WebDriver\n",
    "driver.quit()"
   ]
  }
 ],
 "metadata": {
  "kernelspec": {
   "display_name": "Python 3",
   "language": "python",
   "name": "python3"
  },
  "language_info": {
   "codemirror_mode": {
    "name": "ipython",
    "version": 3
   },
   "file_extension": ".py",
   "mimetype": "text/x-python",
   "name": "python",
   "nbconvert_exporter": "python",
   "pygments_lexer": "ipython3",
   "version": "3.11.4"
  },
  "orig_nbformat": 4
 },
 "nbformat": 4,
 "nbformat_minor": 2
}
