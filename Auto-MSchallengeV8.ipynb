{
 "cells": [
  {
   "cell_type": "markdown",
   "metadata": {},
   "source": [
    "Setup"
   ]
  },
  {
   "cell_type": "code",
   "execution_count": 1,
   "metadata": {},
   "outputs": [],
   "source": [
    "Mail_Address = \"so12ra16@outlook.jp\""
   ]
  },
  {
   "cell_type": "code",
   "execution_count": 2,
   "metadata": {},
   "outputs": [
    {
     "name": "stdout",
     "output_type": "stream",
     "text": [
      "Defaulting to user installation because normal site-packages is not writeable\n",
      "Requirement already satisfied: selenium in c:\\users\\so12r\\appdata\\roaming\\python\\python311\\site-packages (4.11.2)\n",
      "Requirement already satisfied: urllib3[socks]<3,>=1.26 in c:\\users\\so12r\\appdata\\roaming\\python\\python311\\site-packages (from selenium) (1.26.16)\n",
      "Requirement already satisfied: trio~=0.17 in c:\\users\\so12r\\appdata\\roaming\\python\\python311\\site-packages (from selenium) (0.22.2)\n",
      "Requirement already satisfied: trio-websocket~=0.9 in c:\\users\\so12r\\appdata\\roaming\\python\\python311\\site-packages (from selenium) (0.10.3)\n",
      "Requirement already satisfied: certifi>=2021.10.8 in c:\\users\\so12r\\appdata\\roaming\\python\\python311\\site-packages (from selenium) (2023.7.22)\n",
      "Requirement already satisfied: attrs>=20.1.0 in c:\\users\\so12r\\appdata\\roaming\\python\\python311\\site-packages (from trio~=0.17->selenium) (23.1.0)\n",
      "Requirement already satisfied: sortedcontainers in c:\\users\\so12r\\appdata\\roaming\\python\\python311\\site-packages (from trio~=0.17->selenium) (2.4.0)\n",
      "Requirement already satisfied: idna in c:\\users\\so12r\\appdata\\roaming\\python\\python311\\site-packages (from trio~=0.17->selenium) (3.4)\n",
      "Requirement already satisfied: outcome in c:\\users\\so12r\\appdata\\roaming\\python\\python311\\site-packages (from trio~=0.17->selenium) (1.2.0)\n",
      "Requirement already satisfied: sniffio in c:\\users\\so12r\\appdata\\roaming\\python\\python311\\site-packages (from trio~=0.17->selenium) (1.3.0)\n",
      "Requirement already satisfied: cffi>=1.14 in c:\\users\\so12r\\appdata\\roaming\\python\\python311\\site-packages (from trio~=0.17->selenium) (1.15.1)\n",
      "Requirement already satisfied: exceptiongroup in c:\\users\\so12r\\appdata\\roaming\\python\\python311\\site-packages (from trio-websocket~=0.9->selenium) (1.1.2)\n",
      "Requirement already satisfied: wsproto>=0.14 in c:\\users\\so12r\\appdata\\roaming\\python\\python311\\site-packages (from trio-websocket~=0.9->selenium) (1.2.0)\n",
      "Requirement already satisfied: PySocks!=1.5.7,<2.0,>=1.5.6 in c:\\users\\so12r\\appdata\\roaming\\python\\python311\\site-packages (from urllib3[socks]<3,>=1.26->selenium) (1.7.1)\n",
      "Requirement already satisfied: pycparser in c:\\users\\so12r\\appdata\\roaming\\python\\python311\\site-packages (from cffi>=1.14->trio~=0.17->selenium) (2.21)\n",
      "Requirement already satisfied: h11<1,>=0.9.0 in c:\\users\\so12r\\appdata\\roaming\\python\\python311\\site-packages (from wsproto>=0.14->trio-websocket~=0.9->selenium) (0.14.0)\n"
     ]
    },
    {
     "name": "stderr",
     "output_type": "stream",
     "text": [
      "\n",
      "[notice] A new release of pip is available: 23.1.2 -> 23.2.1\n",
      "[notice] To update, run: python.exe -m pip install --upgrade pip\n"
     ]
    },
    {
     "name": "stdout",
     "output_type": "stream",
     "text": [
      "Defaulting to user installation because normal site-packages is not writeable\n",
      "Requirement already satisfied: webdriver-manager in c:\\users\\so12r\\appdata\\roaming\\python\\python311\\site-packages (4.0.0)\n",
      "Requirement already satisfied: requests in c:\\users\\so12r\\appdata\\roaming\\python\\python311\\site-packages (from webdriver-manager) (2.28.2)\n",
      "Requirement already satisfied: python-dotenv in c:\\users\\so12r\\appdata\\roaming\\python\\python311\\site-packages (from webdriver-manager) (1.0.0)\n",
      "Requirement already satisfied: packaging in c:\\users\\so12r\\appdata\\roaming\\python\\python311\\site-packages (from webdriver-manager) (23.1)\n",
      "Requirement already satisfied: charset-normalizer<4,>=2 in c:\\users\\so12r\\appdata\\roaming\\python\\python311\\site-packages (from requests->webdriver-manager) (3.2.0)\n",
      "Requirement already satisfied: idna<4,>=2.5 in c:\\users\\so12r\\appdata\\roaming\\python\\python311\\site-packages (from requests->webdriver-manager) (3.4)\n",
      "Requirement already satisfied: urllib3<1.27,>=1.21.1 in c:\\users\\so12r\\appdata\\roaming\\python\\python311\\site-packages (from requests->webdriver-manager) (1.26.16)\n",
      "Requirement already satisfied: certifi>=2017.4.17 in c:\\users\\so12r\\appdata\\roaming\\python\\python311\\site-packages (from requests->webdriver-manager) (2023.7.22)\n"
     ]
    },
    {
     "name": "stderr",
     "output_type": "stream",
     "text": [
      "\n",
      "[notice] A new release of pip is available: 23.1.2 -> 23.2.1\n",
      "[notice] To update, run: python.exe -m pip install --upgrade pip\n"
     ]
    }
   ],
   "source": [
    "!pip install selenium\n",
    "!pip install webdriver-manager"
   ]
  },
  {
   "cell_type": "code",
   "execution_count": 3,
   "metadata": {},
   "outputs": [
    {
     "name": "stdout",
     "output_type": "stream",
     "text": [
      "\n"
     ]
    },
    {
     "ename": "NoSuchWindowException",
     "evalue": "Message: no such window: target window already closed\nfrom unknown error: web view not found\n  (Session info: chrome=115.0.5790.171)\nStacktrace:\nBacktrace:\n\tGetHandleVerifier [0x00932B63+47795]\n\t(No symbol) [0x008C67E1]\n\t(No symbol) [0x007CC7ED]\n\t(No symbol) [0x007B3495]\n\t(No symbol) [0x0081893B]\n\t(No symbol) [0x00826D13]\n\t(No symbol) [0x00814AC6]\n\t(No symbol) [0x007F13D7]\n\t(No symbol) [0x007F255D]\n\tGetHandleVerifier [0x00B86F89+2490073]\n\tGetHandleVerifier [0x00BCC361+2773681]\n\tGetHandleVerifier [0x00BC6211+2748769]\n\tGetHandleVerifier [0x009B16B0+566784]\n\t(No symbol) [0x008D019A]\n\t(No symbol) [0x008CC418]\n\t(No symbol) [0x008CC4FB]\n\t(No symbol) [0x008BF317]\n\tBaseThreadInitThunk [0x75D87D59+25]\n\tRtlInitializeExceptionChain [0x779CB79B+107]\n\tRtlClearBits [0x779CB71F+191]\n",
     "output_type": "error",
     "traceback": [
      "\u001b[1;31m---------------------------------------------------------------------------\u001b[0m",
      "\u001b[1;31mNoSuchWindowException\u001b[0m                     Traceback (most recent call last)",
      "Cell \u001b[1;32mIn[3], line 36\u001b[0m\n\u001b[0;32m     33\u001b[0m element \u001b[39m=\u001b[39m driver\u001b[39m.\u001b[39mfind_element(\u001b[39m\"\u001b[39m\u001b[39mxpath\u001b[39m\u001b[39m\"\u001b[39m, \u001b[39m'\u001b[39m\u001b[39m//*[@id=\u001b[39m\u001b[39m\"\u001b[39m\u001b[39midSIButton9\u001b[39m\u001b[39m\"\u001b[39m\u001b[39m]\u001b[39m\u001b[39m'\u001b[39m)\u001b[39m.\u001b[39mclick()\n\u001b[0;32m     34\u001b[0m time\u001b[39m.\u001b[39msleep(\u001b[39m1\u001b[39m)\n\u001b[1;32m---> 36\u001b[0m driver\u001b[39m.\u001b[39;49mget(URL)\n\u001b[0;32m     38\u001b[0m items_list \u001b[39m=\u001b[39m driver\u001b[39m.\u001b[39mfind_element(\u001b[39m\"\u001b[39m\u001b[39mid\u001b[39m\u001b[39m\"\u001b[39m, \u001b[39m\"\u001b[39m\u001b[39mitems-list\u001b[39m\u001b[39m\"\u001b[39m)\n\u001b[0;32m     39\u001b[0m links \u001b[39m=\u001b[39m items_list\u001b[39m.\u001b[39mfind_elements(\u001b[39m\"\u001b[39m\u001b[39mtag name\u001b[39m\u001b[39m\"\u001b[39m, \u001b[39m\"\u001b[39m\u001b[39ma\u001b[39m\u001b[39m\"\u001b[39m)\n",
      "File \u001b[1;32m~\\AppData\\Roaming\\Python\\Python311\\site-packages\\selenium\\webdriver\\remote\\webdriver.py:354\u001b[0m, in \u001b[0;36mWebDriver.get\u001b[1;34m(self, url)\u001b[0m\n\u001b[0;32m    352\u001b[0m \u001b[39mdef\u001b[39;00m \u001b[39mget\u001b[39m(\u001b[39mself\u001b[39m, url: \u001b[39mstr\u001b[39m) \u001b[39m-\u001b[39m\u001b[39m>\u001b[39m \u001b[39mNone\u001b[39;00m:\n\u001b[0;32m    353\u001b[0m \u001b[39m    \u001b[39m\u001b[39m\"\"\"Loads a web page in the current browser session.\"\"\"\u001b[39;00m\n\u001b[1;32m--> 354\u001b[0m     \u001b[39mself\u001b[39;49m\u001b[39m.\u001b[39;49mexecute(Command\u001b[39m.\u001b[39;49mGET, {\u001b[39m\"\u001b[39;49m\u001b[39murl\u001b[39;49m\u001b[39m\"\u001b[39;49m: url})\n",
      "File \u001b[1;32m~\\AppData\\Roaming\\Python\\Python311\\site-packages\\selenium\\webdriver\\remote\\webdriver.py:345\u001b[0m, in \u001b[0;36mWebDriver.execute\u001b[1;34m(self, driver_command, params)\u001b[0m\n\u001b[0;32m    343\u001b[0m response \u001b[39m=\u001b[39m \u001b[39mself\u001b[39m\u001b[39m.\u001b[39mcommand_executor\u001b[39m.\u001b[39mexecute(driver_command, params)\n\u001b[0;32m    344\u001b[0m \u001b[39mif\u001b[39;00m response:\n\u001b[1;32m--> 345\u001b[0m     \u001b[39mself\u001b[39;49m\u001b[39m.\u001b[39;49merror_handler\u001b[39m.\u001b[39;49mcheck_response(response)\n\u001b[0;32m    346\u001b[0m     response[\u001b[39m\"\u001b[39m\u001b[39mvalue\u001b[39m\u001b[39m\"\u001b[39m] \u001b[39m=\u001b[39m \u001b[39mself\u001b[39m\u001b[39m.\u001b[39m_unwrap_value(response\u001b[39m.\u001b[39mget(\u001b[39m\"\u001b[39m\u001b[39mvalue\u001b[39m\u001b[39m\"\u001b[39m, \u001b[39mNone\u001b[39;00m))\n\u001b[0;32m    347\u001b[0m     \u001b[39mreturn\u001b[39;00m response\n",
      "File \u001b[1;32m~\\AppData\\Roaming\\Python\\Python311\\site-packages\\selenium\\webdriver\\remote\\errorhandler.py:229\u001b[0m, in \u001b[0;36mErrorHandler.check_response\u001b[1;34m(self, response)\u001b[0m\n\u001b[0;32m    227\u001b[0m         alert_text \u001b[39m=\u001b[39m value[\u001b[39m\"\u001b[39m\u001b[39malert\u001b[39m\u001b[39m\"\u001b[39m]\u001b[39m.\u001b[39mget(\u001b[39m\"\u001b[39m\u001b[39mtext\u001b[39m\u001b[39m\"\u001b[39m)\n\u001b[0;32m    228\u001b[0m     \u001b[39mraise\u001b[39;00m exception_class(message, screen, stacktrace, alert_text)  \u001b[39m# type: ignore[call-arg]  # mypy is not smart enough here\u001b[39;00m\n\u001b[1;32m--> 229\u001b[0m \u001b[39mraise\u001b[39;00m exception_class(message, screen, stacktrace)\n",
      "\u001b[1;31mNoSuchWindowException\u001b[0m: Message: no such window: target window already closed\nfrom unknown error: web view not found\n  (Session info: chrome=115.0.5790.171)\nStacktrace:\nBacktrace:\n\tGetHandleVerifier [0x00932B63+47795]\n\t(No symbol) [0x008C67E1]\n\t(No symbol) [0x007CC7ED]\n\t(No symbol) [0x007B3495]\n\t(No symbol) [0x0081893B]\n\t(No symbol) [0x00826D13]\n\t(No symbol) [0x00814AC6]\n\t(No symbol) [0x007F13D7]\n\t(No symbol) [0x007F255D]\n\tGetHandleVerifier [0x00B86F89+2490073]\n\tGetHandleVerifier [0x00BCC361+2773681]\n\tGetHandleVerifier [0x00BC6211+2748769]\n\tGetHandleVerifier [0x009B16B0+566784]\n\t(No symbol) [0x008D019A]\n\t(No symbol) [0x008CC418]\n\t(No symbol) [0x008CC4FB]\n\t(No symbol) [0x008BF317]\n\tBaseThreadInitThunk [0x75D87D59+25]\n\tRtlInitializeExceptionChain [0x779CB79B+107]\n\tRtlClearBits [0x779CB71F+191]\n"
     ]
    }
   ],
   "source": [
    "#With Automatic updade function of selenium\n",
    "from selenium import webdriver\n",
    "from selenium.webdriver.chrome.service import Service as ChromeService\n",
    "from selenium.webdriver.support import expected_conditions as EC\n",
    "from webdriver_manager.chrome import ChromeDriverManager\n",
    "from selenium.webdriver.common.by import By\n",
    "import time\n",
    "import random\n",
    "import re\n",
    "\n",
    "#Function to get URL in text file\n",
    "def get_url_from_file(file_path):\n",
    "    with open(file_path, 'r') as file:\n",
    "        url = file.readline().strip()\n",
    "        return url\n",
    "\n",
    "file_path = r'./info.txt'\n",
    "URL = get_url_from_file(file_path)\n",
    "print()\n",
    "\n",
    "driver = webdriver.Chrome(service=ChromeService(ChromeDriverManager().install()))\n",
    "driver.implicitly_wait(10)\n",
    "driver.get(URL)\n",
    "\n",
    "# login\n",
    "element = driver.find_element(\"xpath\", \"/html/body/div[1]/div[3]/header/div/div[6]/a\").click()\n",
    "element = driver.find_element(\"xpath\", '//*[@id=\"i0116\"]')\n",
    "element.send_keys(Mail_Address)\n",
    "element = driver.find_element(\"xpath\", '//*[@id=\"idSIButton9\"]').click()\n",
    "time.sleep(1)\n",
    "element = driver.find_element(\"xpath\", '//*[@id=\"idSIButton9\"]').click()\n",
    "time.sleep(20)\n",
    "element = driver.find_element(\"xpath\", '//*[@id=\"idSIButton9\"]').click()\n",
    "time.sleep(1)\n",
    "\n",
    "driver.get(URL)\n",
    "\n",
    "items_list = driver.find_element(\"id\", \"items-list\")\n",
    "links = items_list.find_elements(\"tag name\", \"a\")\n",
    "modules_urls = [link.get_attribute(\"href\") for link in links]\n",
    "for modules_url in modules_urls:\n",
    "    print(modules_url)"
   ]
  },
  {
   "cell_type": "markdown",
   "metadata": {},
   "source": [
    "MODULEごとに周回"
   ]
  },
  {
   "cell_type": "code",
   "execution_count": null,
   "metadata": {},
   "outputs": [
    {
     "name": "stdout",
     "output_type": "stream",
     "text": [
      "End module\n",
      "End module\n",
      "End module\n",
      "End module\n",
      "End module\n",
      "End module\n",
      "End module\n",
      "End module\n",
      "End module\n",
      "End module\n",
      "End module\n",
      "End module\n",
      "End module\n",
      "End module\n",
      "End module\n",
      "End module\n",
      "Unit count: 0\n",
      "Test count: -2\n",
      "//*[@id=\"unit-inner-section\"]/form/fieldset/div/div[1]/div/div[2]/label[2]\n",
      "Wait select random time: 0.0\n",
      "//*[@id=\"unit-inner-section\"]/form/fieldset/div/div[2]/div/div[2]/label[2]\n",
      "Wait select random time: 0.0\n",
      "//*[@id=\"unit-inner-section\"]/form/fieldset/div/div[3]/div/div[2]/label[3]\n",
      "Wait select random time: 0.0\n",
      "Wait select random time: 0.0\n",
      "Unit count: 6\n",
      "Test count: 4\n",
      "Total characters: 546\n",
      "Wait random time: 0.8430791343879003\n",
      "Total characters: 13726\n",
      "Wait random time: 15.084209269854972\n",
      "Total characters: 24100\n",
      "Wait random time: 32.684503327587755\n",
      "Total characters: 29952\n",
      "Wait random time: 9.699132600759675\n",
      "//*[@id=\"unit-inner-section\"]/form/fieldset/div/div[1]/div/div[2]/label[1]\n",
      "Wait select random time: 0.9699132600759676\n",
      "//*[@id=\"unit-inner-section\"]/form/fieldset/div/div[2]/div/div[2]/label[1]\n",
      "Wait select random time: 0.9699132600759676\n",
      "//*[@id=\"unit-inner-section\"]/form/fieldset/div/div[3]/div/div[2]/label[2]\n",
      "Wait select random time: 0.9699132600759676\n",
      "//*[@id=\"unit-inner-section\"]/form/fieldset/div/div[4]/div/div[2]/label[3]\n",
      "Wait select random time: 0.9699132600759676\n",
      "Wait select random time: 0.9699132600759676\n",
      "Unit count: 9\n",
      "Test count: 7\n",
      "Total characters: 533\n",
      "Wait random time: 0.13842763821101545\n",
      "Total characters: 1946\n",
      "Wait random time: 3.2891969359870865\n",
      "Total characters: 5608\n",
      "Wait random time: 3.3982613995961595\n",
      "Total characters: 8053\n",
      "Wait random time: 12.425785185865475\n",
      "Total characters: 13397\n",
      "Wait random time: 9.215259383623923\n",
      "Total characters: 14901\n",
      "Wait random time: 14.722628585558082\n",
      "Total characters: 16405\n",
      "Wait random time: 26.07643298034971\n"
     ]
    },
    {
     "ename": "NoSuchElementException",
     "evalue": "Message: no such element: Unable to locate element: {\"method\":\"xpath\",\"selector\":\"//*[@id=\"next-section\"]/div/div/p/a\"}\n  (Session info: chrome=115.0.5790.171); For documentation on this error, please visit: https://www.selenium.dev/documentation/webdriver/troubleshooting/errors#no-such-element-exception\nStacktrace:\nBacktrace:\n\tGetHandleVerifier [0x009F2B63+47795]\n\t(No symbol) [0x009867E1]\n\t(No symbol) [0x0088C7ED]\n\t(No symbol) [0x008B9AC8]\n\t(No symbol) [0x008B9B8B]\n\t(No symbol) [0x008E8A82]\n\t(No symbol) [0x008D4D14]\n\t(No symbol) [0x008E71DA]\n\t(No symbol) [0x008D4AC6]\n\t(No symbol) [0x008B13D7]\n\t(No symbol) [0x008B255D]\n\tGetHandleVerifier [0x00C46F89+2490073]\n\tGetHandleVerifier [0x00C8C361+2773681]\n\tGetHandleVerifier [0x00C86211+2748769]\n\tGetHandleVerifier [0x00A716B0+566784]\n\t(No symbol) [0x0099019A]\n\t(No symbol) [0x0098C418]\n\t(No symbol) [0x0098C4FB]\n\t(No symbol) [0x0097F317]\n\tBaseThreadInitThunk [0x75D87D59+25]\n\tRtlInitializeExceptionChain [0x779CB79B+107]\n\tRtlClearBits [0x779CB71F+191]\n",
     "output_type": "error",
     "traceback": [
      "\u001b[1;31m---------------------------------------------------------------------------\u001b[0m",
      "\u001b[1;31mNoSuchElementException\u001b[0m                    Traceback (most recent call last)",
      "Cell \u001b[1;32mIn[5], line 50\u001b[0m\n\u001b[0;32m     48\u001b[0m     \u001b[39mprint\u001b[39m(\u001b[39m\"\u001b[39m\u001b[39mWait random time:\u001b[39m\u001b[39m\"\u001b[39m, random_number)\n\u001b[0;32m     49\u001b[0m     time\u001b[39m.\u001b[39msleep(random_number)\n\u001b[1;32m---> 50\u001b[0m     driver\u001b[39m.\u001b[39;49mfind_element(By\u001b[39m.\u001b[39;49mXPATH, \u001b[39m'\u001b[39;49m\u001b[39m//*[@id=\u001b[39;49m\u001b[39m\"\u001b[39;49m\u001b[39mnext-section\u001b[39;49m\u001b[39m\"\u001b[39;49m\u001b[39m]/div/div/p/a\u001b[39;49m\u001b[39m'\u001b[39;49m)\u001b[39m.\u001b[39mclick()\n\u001b[0;32m     52\u001b[0m \u001b[39m# 知識セクション選択\u001b[39;00m\n\u001b[0;32m     53\u001b[0m driver\u001b[39m.\u001b[39mimplicitly_wait(\u001b[39m3\u001b[39m)\n",
      "File \u001b[1;32m~\\AppData\\Roaming\\Python\\Python311\\site-packages\\selenium\\webdriver\\remote\\webdriver.py:739\u001b[0m, in \u001b[0;36mWebDriver.find_element\u001b[1;34m(self, by, value)\u001b[0m\n\u001b[0;32m    736\u001b[0m     by \u001b[39m=\u001b[39m By\u001b[39m.\u001b[39mCSS_SELECTOR\n\u001b[0;32m    737\u001b[0m     value \u001b[39m=\u001b[39m \u001b[39mf\u001b[39m\u001b[39m'\u001b[39m\u001b[39m[name=\u001b[39m\u001b[39m\"\u001b[39m\u001b[39m{\u001b[39;00mvalue\u001b[39m}\u001b[39;00m\u001b[39m\"\u001b[39m\u001b[39m]\u001b[39m\u001b[39m'\u001b[39m\n\u001b[1;32m--> 739\u001b[0m \u001b[39mreturn\u001b[39;00m \u001b[39mself\u001b[39;49m\u001b[39m.\u001b[39;49mexecute(Command\u001b[39m.\u001b[39;49mFIND_ELEMENT, {\u001b[39m\"\u001b[39;49m\u001b[39musing\u001b[39;49m\u001b[39m\"\u001b[39;49m: by, \u001b[39m\"\u001b[39;49m\u001b[39mvalue\u001b[39;49m\u001b[39m\"\u001b[39;49m: value})[\u001b[39m\"\u001b[39m\u001b[39mvalue\u001b[39m\u001b[39m\"\u001b[39m]\n",
      "File \u001b[1;32m~\\AppData\\Roaming\\Python\\Python311\\site-packages\\selenium\\webdriver\\remote\\webdriver.py:345\u001b[0m, in \u001b[0;36mWebDriver.execute\u001b[1;34m(self, driver_command, params)\u001b[0m\n\u001b[0;32m    343\u001b[0m response \u001b[39m=\u001b[39m \u001b[39mself\u001b[39m\u001b[39m.\u001b[39mcommand_executor\u001b[39m.\u001b[39mexecute(driver_command, params)\n\u001b[0;32m    344\u001b[0m \u001b[39mif\u001b[39;00m response:\n\u001b[1;32m--> 345\u001b[0m     \u001b[39mself\u001b[39;49m\u001b[39m.\u001b[39;49merror_handler\u001b[39m.\u001b[39;49mcheck_response(response)\n\u001b[0;32m    346\u001b[0m     response[\u001b[39m\"\u001b[39m\u001b[39mvalue\u001b[39m\u001b[39m\"\u001b[39m] \u001b[39m=\u001b[39m \u001b[39mself\u001b[39m\u001b[39m.\u001b[39m_unwrap_value(response\u001b[39m.\u001b[39mget(\u001b[39m\"\u001b[39m\u001b[39mvalue\u001b[39m\u001b[39m\"\u001b[39m, \u001b[39mNone\u001b[39;00m))\n\u001b[0;32m    347\u001b[0m     \u001b[39mreturn\u001b[39;00m response\n",
      "File \u001b[1;32m~\\AppData\\Roaming\\Python\\Python311\\site-packages\\selenium\\webdriver\\remote\\errorhandler.py:229\u001b[0m, in \u001b[0;36mErrorHandler.check_response\u001b[1;34m(self, response)\u001b[0m\n\u001b[0;32m    227\u001b[0m         alert_text \u001b[39m=\u001b[39m value[\u001b[39m\"\u001b[39m\u001b[39malert\u001b[39m\u001b[39m\"\u001b[39m]\u001b[39m.\u001b[39mget(\u001b[39m\"\u001b[39m\u001b[39mtext\u001b[39m\u001b[39m\"\u001b[39m)\n\u001b[0;32m    228\u001b[0m     \u001b[39mraise\u001b[39;00m exception_class(message, screen, stacktrace, alert_text)  \u001b[39m# type: ignore[call-arg]  # mypy is not smart enough here\u001b[39;00m\n\u001b[1;32m--> 229\u001b[0m \u001b[39mraise\u001b[39;00m exception_class(message, screen, stacktrace)\n",
      "\u001b[1;31mNoSuchElementException\u001b[0m: Message: no such element: Unable to locate element: {\"method\":\"xpath\",\"selector\":\"//*[@id=\"next-section\"]/div/div/p/a\"}\n  (Session info: chrome=115.0.5790.171); For documentation on this error, please visit: https://www.selenium.dev/documentation/webdriver/troubleshooting/errors#no-such-element-exception\nStacktrace:\nBacktrace:\n\tGetHandleVerifier [0x009F2B63+47795]\n\t(No symbol) [0x009867E1]\n\t(No symbol) [0x0088C7ED]\n\t(No symbol) [0x008B9AC8]\n\t(No symbol) [0x008B9B8B]\n\t(No symbol) [0x008E8A82]\n\t(No symbol) [0x008D4D14]\n\t(No symbol) [0x008E71DA]\n\t(No symbol) [0x008D4AC6]\n\t(No symbol) [0x008B13D7]\n\t(No symbol) [0x008B255D]\n\tGetHandleVerifier [0x00C46F89+2490073]\n\tGetHandleVerifier [0x00C8C361+2773681]\n\tGetHandleVerifier [0x00C86211+2748769]\n\tGetHandleVerifier [0x00A716B0+566784]\n\t(No symbol) [0x0099019A]\n\t(No symbol) [0x0098C418]\n\t(No symbol) [0x0098C4FB]\n\t(No symbol) [0x0097F317]\n\tBaseThreadInitThunk [0x75D87D59+25]\n\tRtlInitializeExceptionChain [0x779CB79B+107]\n\tRtlClearBits [0x779CB71F+191]\n"
     ]
    }
   ],
   "source": [
    "for modules_url in modules_urls:\n",
    "    driver.get(modules_url)\n",
    "    time.sleep(1)\n",
    "    \n",
    "    #ユニット数を取得\n",
    "    element = driver.find_element(\"xpath\",'//*[@id=\"main\"]/div[3]/div/div/div/div/div/div/div[2]/div/ul/li[3]')\n",
    "    text = element.text\n",
    "    try:\n",
    "        modified_text = int(re.search(r\"/(\\d+)\\sユニット\", text).group(1))-int(text.split('/')[0])-2\n",
    "    except:\n",
    "        modified_text = text.replace(\" ユニット\", \"\")\n",
    "    unit_number = int(modified_text)\n",
    "    test_unit_number =unit_number-2\n",
    "    \n",
    "    # 開始ボタンをクリックする\n",
    "    try:\n",
    "        driver.find_element(By.XPATH, '//*[@id=\"start-unit\"]').click()\n",
    "    except:\n",
    "        print(\"End module\")\n",
    "        continue\n",
    "    \n",
    "    print(\"Unit count:\", unit_number)\n",
    "    print(\"Test count:\", test_unit_number)\n",
    "\n",
    "    random_number=0\n",
    "    #知識チェックセクション前\n",
    "    for unit in range(test_unit_number):\n",
    "        # 要素内のテキストから待機時間を算出\n",
    "        time.sleep(3)\n",
    "        child_elements = driver.find_elements(\"xpath\", '//*[@id=\"unit-inner-section\"]/*')\n",
    "        for child_element in child_elements:\n",
    "            text += child_element.text\n",
    "        total_characters = len(text)\n",
    "        print(\"Total characters:\", total_characters)\n",
    "        number = total_characters\n",
    "        \n",
    "        # Settime(shortA)\n",
    "        lower_bound = number / 500\n",
    "        upper_bound = number / 5000\n",
    "        # Settime(shortB)\n",
    "        # lower_bound = number / 50\n",
    "        # upper_bound = number / 500\n",
    "        # Settime(Real)\n",
    "        # lower_bound = number / 5\n",
    "        # upper_bound = number / 50\n",
    "        \n",
    "        random_number = random.uniform(lower_bound, upper_bound)\n",
    "        print(\"Wait random time:\", random_number)\n",
    "        time.sleep(random_number)\n",
    "        driver.find_element(By.XPATH, '//*[@id=\"next-section\"]/div/div/p/a').click()\n",
    "\n",
    "    # 知識セクション選択\n",
    "    driver.implicitly_wait(3)\n",
    "\n",
    "    numbers = [str(random.randint(1, 3)) for _ in range(10)]\n",
    "    select_number = ''.join(numbers)\n",
    "\n",
    "    random_number=random_number/10\n",
    "    for i in range(999):\n",
    "        try:\n",
    "            question_element =  '//*[@id=\"unit-inner-section\"]/form/fieldset/div/div['+str(i+1)+']/div/div[2]/label['+str(select_number[i])+']'\n",
    "            print(question_element)\n",
    "            driver.find_element(By.XPATH, question_element).click()\n",
    "            print(\"Wait select random time:\", random_number)\n",
    "            time.sleep(random_number)\n",
    "        except:\n",
    "            break\n",
    "\n",
    "    driver.implicitly_wait(10)\n",
    "    driver.find_element(By.XPATH, '//*[@id=\"unit-inner-section\"]/form/fieldset/button').click()\n",
    "    print(\"Wait select random time:\", random_number)\n",
    "    time.sleep(random_number)\n",
    "    driver.find_element(By.XPATH, '//*[@id=\"quiz-button-holder\"]/div/a/span[1]').click()\n",
    "    print(\"Wait select random time:\", random_number)\n",
    "    time.sleep(random_number)\n",
    "    # driver.find_element(By.XPATH, '//*[@id=\"next-section\"]/div/div/p/a').click()\n",
    "    # print(\"Wait select random time:\", random_number)\n",
    "    # time.sleep(random_number)"
   ]
  },
  {
   "cell_type": "code",
   "execution_count": null,
   "metadata": {},
   "outputs": [],
   "source": [
    "# Close the WebDriver\n",
    "driver.quit()"
   ]
  }
 ],
 "metadata": {
  "kernelspec": {
   "display_name": "Python 3",
   "language": "python",
   "name": "python3"
  },
  "language_info": {
   "codemirror_mode": {
    "name": "ipython",
    "version": 3
   },
   "file_extension": ".py",
   "mimetype": "text/x-python",
   "name": "python",
   "nbconvert_exporter": "python",
   "pygments_lexer": "ipython3",
   "version": "3.11.4"
  },
  "orig_nbformat": 4
 },
 "nbformat": 4,
 "nbformat_minor": 2
}
