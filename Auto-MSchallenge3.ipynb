{
 "cells": [
  {
   "cell_type": "markdown",
   "metadata": {},
   "source": [
    "Setup"
   ]
  },
  {
   "cell_type": "code",
   "execution_count": 1,
   "metadata": {},
   "outputs": [
    {
     "name": "stdout",
     "output_type": "stream",
     "text": [
      "Defaulting to user installation because normal site-packages is not writeable\n",
      "Requirement already satisfied: selenium in c:\\users\\so12r\\appdata\\roaming\\python\\python311\\site-packages (4.11.2)\n",
      "Requirement already satisfied: urllib3[socks]<3,>=1.26 in c:\\users\\so12r\\appdata\\roaming\\python\\python311\\site-packages (from selenium) (1.26.16)\n",
      "Requirement already satisfied: trio~=0.17 in c:\\users\\so12r\\appdata\\roaming\\python\\python311\\site-packages (from selenium) (0.22.2)\n",
      "Requirement already satisfied: trio-websocket~=0.9 in c:\\users\\so12r\\appdata\\roaming\\python\\python311\\site-packages (from selenium) (0.10.3)\n",
      "Requirement already satisfied: certifi>=2021.10.8 in c:\\users\\so12r\\appdata\\roaming\\python\\python311\\site-packages (from selenium) (2023.7.22)\n",
      "Requirement already satisfied: attrs>=20.1.0 in c:\\users\\so12r\\appdata\\roaming\\python\\python311\\site-packages (from trio~=0.17->selenium) (23.1.0)\n",
      "Requirement already satisfied: sortedcontainers in c:\\users\\so12r\\appdata\\roaming\\python\\python311\\site-packages (from trio~=0.17->selenium) (2.4.0)\n",
      "Requirement already satisfied: idna in c:\\users\\so12r\\appdata\\roaming\\python\\python311\\site-packages (from trio~=0.17->selenium) (3.4)\n",
      "Requirement already satisfied: outcome in c:\\users\\so12r\\appdata\\roaming\\python\\python311\\site-packages (from trio~=0.17->selenium) (1.2.0)\n",
      "Requirement already satisfied: sniffio in c:\\users\\so12r\\appdata\\roaming\\python\\python311\\site-packages (from trio~=0.17->selenium) (1.3.0)\n",
      "Requirement already satisfied: cffi>=1.14 in c:\\users\\so12r\\appdata\\roaming\\python\\python311\\site-packages (from trio~=0.17->selenium) (1.15.1)\n",
      "Requirement already satisfied: exceptiongroup in c:\\users\\so12r\\appdata\\roaming\\python\\python311\\site-packages (from trio-websocket~=0.9->selenium) (1.1.2)\n",
      "Requirement already satisfied: wsproto>=0.14 in c:\\users\\so12r\\appdata\\roaming\\python\\python311\\site-packages (from trio-websocket~=0.9->selenium) (1.2.0)\n",
      "Requirement already satisfied: PySocks!=1.5.7,<2.0,>=1.5.6 in c:\\users\\so12r\\appdata\\roaming\\python\\python311\\site-packages (from urllib3[socks]<3,>=1.26->selenium) (1.7.1)\n",
      "Requirement already satisfied: pycparser in c:\\users\\so12r\\appdata\\roaming\\python\\python311\\site-packages (from cffi>=1.14->trio~=0.17->selenium) (2.21)\n",
      "Requirement already satisfied: h11<1,>=0.9.0 in c:\\users\\so12r\\appdata\\roaming\\python\\python311\\site-packages (from wsproto>=0.14->trio-websocket~=0.9->selenium) (0.14.0)\n"
     ]
    },
    {
     "name": "stderr",
     "output_type": "stream",
     "text": [
      "\n",
      "[notice] A new release of pip is available: 23.1.2 -> 23.2.1\n",
      "[notice] To update, run: python.exe -m pip install --upgrade pip\n"
     ]
    },
    {
     "name": "stdout",
     "output_type": "stream",
     "text": [
      "Defaulting to user installation because normal site-packages is not writeable"
     ]
    },
    {
     "name": "stderr",
     "output_type": "stream",
     "text": [
      "\n",
      "[notice] A new release of pip is available: 23.1.2 -> 23.2.1\n",
      "[notice] To update, run: python.exe -m pip install --upgrade pip\n"
     ]
    },
    {
     "name": "stdout",
     "output_type": "stream",
     "text": [
      "\n",
      "Requirement already satisfied: webdriver-manager in c:\\users\\so12r\\appdata\\roaming\\python\\python311\\site-packages (4.0.0)\n",
      "Requirement already satisfied: requests in c:\\users\\so12r\\appdata\\roaming\\python\\python311\\site-packages (from webdriver-manager) (2.28.2)\n",
      "Requirement already satisfied: python-dotenv in c:\\users\\so12r\\appdata\\roaming\\python\\python311\\site-packages (from webdriver-manager) (1.0.0)\n",
      "Requirement already satisfied: packaging in c:\\users\\so12r\\appdata\\roaming\\python\\python311\\site-packages (from webdriver-manager) (23.1)\n",
      "Requirement already satisfied: charset-normalizer<4,>=2 in c:\\users\\so12r\\appdata\\roaming\\python\\python311\\site-packages (from requests->webdriver-manager) (3.2.0)\n",
      "Requirement already satisfied: idna<4,>=2.5 in c:\\users\\so12r\\appdata\\roaming\\python\\python311\\site-packages (from requests->webdriver-manager) (3.4)\n",
      "Requirement already satisfied: urllib3<1.27,>=1.21.1 in c:\\users\\so12r\\appdata\\roaming\\python\\python311\\site-packages (from requests->webdriver-manager) (1.26.16)\n",
      "Requirement already satisfied: certifi>=2017.4.17 in c:\\users\\so12r\\appdata\\roaming\\python\\python311\\site-packages (from requests->webdriver-manager) (2023.7.22)\n"
     ]
    }
   ],
   "source": [
    "!pip install selenium\n",
    "!pip install webdriver-manager"
   ]
  },
  {
   "cell_type": "code",
   "execution_count": 2,
   "metadata": {},
   "outputs": [
    {
     "name": "stdout",
     "output_type": "stream",
     "text": [
      "\n"
     ]
    }
   ],
   "source": [
    "#With Automatic updade function of selenium\n",
    "from selenium import webdriver\n",
    "from selenium.webdriver.chrome.service import Service as ChromeService\n",
    "from webdriver_manager.chrome import ChromeDriverManager\n",
    "from selenium.webdriver.common.by import By\n",
    "import time\n",
    "\n",
    "#Function to get URL in text file\n",
    "def get_url_from_file(file_path):\n",
    "    with open(file_path, 'r') as file:\n",
    "        url = file.readline().strip()\n",
    "        return url\n",
    "\n",
    "file_path = r'./info.txt'\n",
    "URL = get_url_from_file(file_path)\n",
    "print()\n",
    "\n",
    "driver = webdriver.Chrome(service=ChromeService(ChromeDriverManager().install()))\n",
    "driver.get(URL)"
   ]
  },
  {
   "cell_type": "markdown",
   "metadata": {},
   "source": [
    "Getting modules URL"
   ]
  },
  {
   "cell_type": "code",
   "execution_count": 5,
   "metadata": {},
   "outputs": [
    {
     "name": "stdout",
     "output_type": "stream",
     "text": [
      "https://learn.microsoft.com/ja-jp/training/modules/get-started-ai-fundamentals/?ns-enrollment-type=Collection&ns-enrollment-id=n52yh22ezxqp\n",
      "https://learn.microsoft.com/ja-jp/training/modules/introduction-to-github-copilot/?ns-enrollment-type=Collection&ns-enrollment-id=n52yh22ezxqp\n",
      "https://learn.microsoft.com/ja-jp/training/modules/create-manage-cognitive-services/?ns-enrollment-type=Collection&ns-enrollment-id=n52yh22ezxqp\n",
      "https://learn.microsoft.com/ja-jp/training/modules/secure-cognitive-services/?ns-enrollment-type=Collection&ns-enrollment-id=n52yh22ezxqp\n",
      "https://learn.microsoft.com/ja-jp/training/modules/monitor-cognitive-services/?ns-enrollment-type=Collection&ns-enrollment-id=n52yh22ezxqp\n",
      "https://learn.microsoft.com/ja-jp/training/modules/investigate-container-for-use-cognitive-services/?ns-enrollment-type=Collection&ns-enrollment-id=n52yh22ezxqp\n",
      "https://learn.microsoft.com/ja-jp/training/modules/explore-azure-openai/?ns-enrollment-type=Collection&ns-enrollment-id=n52yh22ezxqp\n",
      "https://learn.microsoft.com/ja-jp/training/modules/build-language-understanding-model/?ns-enrollment-type=Collection&ns-enrollment-id=n52yh22ezxqp\n",
      "https://learn.microsoft.com/ja-jp/training/modules/publish-use-language-understand-app/?ns-enrollment-type=Collection&ns-enrollment-id=n52yh22ezxqp\n",
      "https://learn.microsoft.com/ja-jp/training/modules/transcribe-speech-input-text/?ns-enrollment-type=Collection&ns-enrollment-id=n52yh22ezxqp\n",
      "https://learn.microsoft.com/ja-jp/training/modules/translate-speech-speech-service/?ns-enrollment-type=Collection&ns-enrollment-id=n52yh22ezxqp\n",
      "https://learn.microsoft.com/ja-jp/training/modules/extract-insights-text-with-text-analytics-service/?ns-enrollment-type=Collection&ns-enrollment-id=n52yh22ezxqp\n",
      "https://learn.microsoft.com/ja-jp/training/modules/translate-text-with-translator-service/?ns-enrollment-type=Collection&ns-enrollment-id=n52yh22ezxqp\n",
      "https://learn.microsoft.com/ja-jp/training/modules/explore-cognitive-services-vision/?ns-enrollment-type=Collection&ns-enrollment-id=n52yh22ezxqp\n",
      "https://learn.microsoft.com/ja-jp/training/modules/analyze-images/?ns-enrollment-type=Collection&ns-enrollment-id=n52yh22ezxqp\n",
      "https://learn.microsoft.com/ja-jp/training/modules/analyze-video/?ns-enrollment-type=Collection&ns-enrollment-id=n52yh22ezxqp\n",
      "https://learn.microsoft.com/ja-jp/training/modules/classify-images/?ns-enrollment-type=Collection&ns-enrollment-id=n52yh22ezxqp\n",
      "https://learn.microsoft.com/ja-jp/training/modules/detect-objects-images/?ns-enrollment-type=Collection&ns-enrollment-id=n52yh22ezxqp\n",
      "https://learn.microsoft.com/ja-jp/training/modules/detect-analyze-recognize-faces/?ns-enrollment-type=Collection&ns-enrollment-id=n52yh22ezxqp\n"
     ]
    }
   ],
   "source": [
    "time.sleep(2)\n",
    "# idが\"items-list\"である要素を取得\n",
    "items_list = driver.find_element(\"id\", \"items-list\")\n",
    "\n",
    "# items-list内のすべてのリンクを取得\n",
    "links = items_list.find_elements(\"tag name\", \"a\")\n",
    "\n",
    "# リンクのURLを取得\n",
    "modules_urls = [link.get_attribute(\"href\") for link in links]\n",
    "\n",
    "# 取得したURLを表示\n",
    "for modules_url in modules_urls:\n",
    "    print(modules_url)"
   ]
  },
  {
   "cell_type": "markdown",
   "metadata": {},
   "source": [
    "MODULEごとに周回"
   ]
  },
  {
   "cell_type": "code",
   "execution_count": 6,
   "metadata": {},
   "outputs": [],
   "source": [
    "for modules_url in modules_urls:\n",
    "    driver.get(modules_url)\n",
    "    time.sleep(1)\n",
    "    # XPathを指定して要素をクリック\n",
    "    try:\n",
    "        driver.find_element(By.XPATH, '//*[@id=\"start-unit\"]').click()\n",
    "    except:\n",
    "        print(\"End module\")"
   ]
  },
  {
   "cell_type": "markdown",
   "metadata": {},
   "source": [
    "ページの文字数を取得する"
   ]
  },
  {
   "cell_type": "code",
   "execution_count": 9,
   "metadata": {},
   "outputs": [
    {
     "name": "stdout",
     "output_type": "stream",
     "text": [
      "Total characters: 1331\n"
     ]
    }
   ],
   "source": [
    "# idが\"element-id\"である要素を取得\n",
    "element = driver.find_element(\"id\", \"unit-inner-section\")\n",
    "\n",
    "# 要素内のテキストを取得\n",
    "text = element.text\n",
    "\n",
    "# 子要素のテキストを取得\n",
    "child_elements = element.find_elements(\"xpath\", \".//*\")\n",
    "for child_element in child_elements:\n",
    "    text += child_element.text\n",
    "\n",
    "# 文字数を合計\n",
    "total_characters = len(text)\n",
    "\n",
    "# 合計文字数を表示\n",
    "print(\"Total characters:\", total_characters)\n",
    "\n"
   ]
  },
  {
   "cell_type": "markdown",
   "metadata": {},
   "source": [
    "指定数値から乱数を作成"
   ]
  },
  {
   "cell_type": "code",
   "execution_count": 52,
   "metadata": {},
   "outputs": [
    {
     "name": "stdout",
     "output_type": "stream",
     "text": [
      "195.06243171470112\n"
     ]
    }
   ],
   "source": [
    "import random\n",
    "\n",
    "# Specify the number\n",
    "number = total_characters\n",
    "\n",
    "# Calculate the range\n",
    "lower_bound = number / 5\n",
    "upper_bound = number / 50\n",
    "\n",
    "# Generate a random number within the range\n",
    "random_number = random.uniform(lower_bound, upper_bound)\n",
    "\n",
    "# Print the random number\n",
    "print(random_number)"
   ]
  },
  {
   "cell_type": "markdown",
   "metadata": {},
   "source": [
    "ユニット数を取得"
   ]
  },
  {
   "cell_type": "code",
   "execution_count": 56,
   "metadata": {},
   "outputs": [
    {
     "name": "stdout",
     "output_type": "stream",
     "text": [
      "7\n"
     ]
    }
   ],
   "source": [
    "# XPathを指定して要素のテキストを取得\n",
    "element = driver.find_element(\"xpath\",'//*[@id=\"main\"]/div[3]/div/div/div/div/div/div/div[2]/div/ul/li[3]')\n",
    "text = element.text\n",
    "\n",
    "# 文字列から「ゆにっと」を削除\n",
    "modified_text = text.replace(\" ユニット\", \"\")\n",
    "\n",
    "# 文字列を数値に変換\n",
    "unit_number = int(modified_text)\n",
    "test_unit_number =unit_number-2\n",
    "# 数値を表示\n",
    "print(numeric_value)"
   ]
  },
  {
   "cell_type": "code",
   "execution_count": null,
   "metadata": {},
   "outputs": [],
   "source": [
    "//*[@id=\"next-section\"]/div/div/p/a"
   ]
  },
  {
   "cell_type": "code",
   "execution_count": null,
   "metadata": {},
   "outputs": [],
   "source": [
    "# Close the WebDriver\n",
    "driver.quit()"
   ]
  }
 ],
 "metadata": {
  "kernelspec": {
   "display_name": "Python 3",
   "language": "python",
   "name": "python3"
  },
  "language_info": {
   "codemirror_mode": {
    "name": "ipython",
    "version": 3
   },
   "file_extension": ".py",
   "mimetype": "text/x-python",
   "name": "python",
   "nbconvert_exporter": "python",
   "pygments_lexer": "ipython3",
   "version": "3.11.4"
  },
  "orig_nbformat": 4
 },
 "nbformat": 4,
 "nbformat_minor": 2
}
