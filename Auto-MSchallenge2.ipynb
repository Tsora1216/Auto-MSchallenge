{
 "cells": [
  {
   "cell_type": "markdown",
   "metadata": {},
   "source": [
    "Setup"
   ]
  },
  {
   "cell_type": "code",
   "execution_count": null,
   "metadata": {},
   "outputs": [],
   "source": [
    "!pip install selenium\n",
    "!pip install webdriver-manager"
   ]
  },
  {
   "cell_type": "code",
   "execution_count": 1,
   "metadata": {},
   "outputs": [
    {
     "name": "stdout",
     "output_type": "stream",
     "text": [
      "\n"
     ]
    }
   ],
   "source": [
    "#With Automatic updade function of selenium\n",
    "from selenium import webdriver\n",
    "from selenium.webdriver.chrome.service import Service as ChromeService\n",
    "from webdriver_manager.chrome import ChromeDriverManager\n",
    "from selenium.webdriver.common.by import By\n",
    "import time\n",
    "\n",
    "#Function to get URL in text file\n",
    "def get_url_from_file(file_path):\n",
    "    with open(file_path, 'r') as file:\n",
    "        url = file.readline().strip()\n",
    "        return url\n",
    "\n",
    "file_path = r'./info.txt'\n",
    "URL = get_url_from_file(file_path)\n",
    "print()\n",
    "\n",
    "driver = webdriver.Chrome(service=ChromeService(ChromeDriverManager().install()))\n",
    "driver.get(URL)"
   ]
  },
  {
   "cell_type": "markdown",
   "metadata": {},
   "source": [
    "Getting modules URL"
   ]
  },
  {
   "cell_type": "code",
   "execution_count": 3,
   "metadata": {},
   "outputs": [
    {
     "name": "stdout",
     "output_type": "stream",
     "text": [
      "https://learn.microsoft.com/ja-jp/training/modules/get-started-ai-fundamentals/?ns-enrollment-type=Collection&ns-enrollment-id=n52yh22ezxqp\n",
      "https://learn.microsoft.com/ja-jp/training/modules/introduction-to-github-copilot/?ns-enrollment-type=Collection&ns-enrollment-id=n52yh22ezxqp\n",
      "https://learn.microsoft.com/ja-jp/training/modules/create-manage-cognitive-services/?ns-enrollment-type=Collection&ns-enrollment-id=n52yh22ezxqp\n",
      "https://learn.microsoft.com/ja-jp/training/modules/secure-cognitive-services/?ns-enrollment-type=Collection&ns-enrollment-id=n52yh22ezxqp\n",
      "https://learn.microsoft.com/ja-jp/training/modules/monitor-cognitive-services/?ns-enrollment-type=Collection&ns-enrollment-id=n52yh22ezxqp\n",
      "https://learn.microsoft.com/ja-jp/training/modules/investigate-container-for-use-cognitive-services/?ns-enrollment-type=Collection&ns-enrollment-id=n52yh22ezxqp\n",
      "https://learn.microsoft.com/ja-jp/training/modules/explore-azure-openai/?ns-enrollment-type=Collection&ns-enrollment-id=n52yh22ezxqp\n",
      "https://learn.microsoft.com/ja-jp/training/modules/build-language-understanding-model/?ns-enrollment-type=Collection&ns-enrollment-id=n52yh22ezxqp\n",
      "https://learn.microsoft.com/ja-jp/training/modules/publish-use-language-understand-app/?ns-enrollment-type=Collection&ns-enrollment-id=n52yh22ezxqp\n",
      "https://learn.microsoft.com/ja-jp/training/modules/transcribe-speech-input-text/?ns-enrollment-type=Collection&ns-enrollment-id=n52yh22ezxqp\n",
      "https://learn.microsoft.com/ja-jp/training/modules/translate-speech-speech-service/?ns-enrollment-type=Collection&ns-enrollment-id=n52yh22ezxqp\n",
      "https://learn.microsoft.com/ja-jp/training/modules/extract-insights-text-with-text-analytics-service/?ns-enrollment-type=Collection&ns-enrollment-id=n52yh22ezxqp\n",
      "https://learn.microsoft.com/ja-jp/training/modules/translate-text-with-translator-service/?ns-enrollment-type=Collection&ns-enrollment-id=n52yh22ezxqp\n",
      "https://learn.microsoft.com/ja-jp/training/modules/explore-cognitive-services-vision/?ns-enrollment-type=Collection&ns-enrollment-id=n52yh22ezxqp\n",
      "https://learn.microsoft.com/ja-jp/training/modules/analyze-images/?ns-enrollment-type=Collection&ns-enrollment-id=n52yh22ezxqp\n",
      "https://learn.microsoft.com/ja-jp/training/modules/analyze-video/?ns-enrollment-type=Collection&ns-enrollment-id=n52yh22ezxqp\n",
      "https://learn.microsoft.com/ja-jp/training/modules/classify-images/?ns-enrollment-type=Collection&ns-enrollment-id=n52yh22ezxqp\n",
      "https://learn.microsoft.com/ja-jp/training/modules/detect-objects-images/?ns-enrollment-type=Collection&ns-enrollment-id=n52yh22ezxqp\n",
      "https://learn.microsoft.com/ja-jp/training/modules/detect-analyze-recognize-faces/?ns-enrollment-type=Collection&ns-enrollment-id=n52yh22ezxqp\n"
     ]
    }
   ],
   "source": [
    "# idが\"items-list\"である要素を取得\n",
    "items_list = driver.find_element(\"id\", \"items-list\")\n",
    "\n",
    "# items-list内のすべてのリンクを取得\n",
    "links = items_list.find_elements(\"tag name\", \"a\")\n",
    "\n",
    "# リンクのURLを取得\n",
    "modules_urls = [link.get_attribute(\"href\") for link in links]\n",
    "\n",
    "# 取得したURLを表示\n",
    "for modules_url in modules_urls:\n",
    "    print(modules_url)"
   ]
  },
  {
   "cell_type": "markdown",
   "metadata": {},
   "source": [
    "MODULEごとに周回"
   ]
  },
  {
   "cell_type": "code",
   "execution_count": 5,
   "metadata": {},
   "outputs": [
    {
     "ename": "AttributeError",
     "evalue": "'WebDriver' object has no attribute 'find_element_by_xpath'",
     "output_type": "error",
     "traceback": [
      "\u001b[1;31m---------------------------------------------------------------------------\u001b[0m",
      "\u001b[1;31mAttributeError\u001b[0m                            Traceback (most recent call last)",
      "Cell \u001b[1;32mIn[5], line 5\u001b[0m\n\u001b[0;32m      3\u001b[0m time\u001b[39m.\u001b[39msleep(\u001b[39m1\u001b[39m)\n\u001b[0;32m      4\u001b[0m \u001b[39m# XPathを指定して要素をクリック\u001b[39;00m\n\u001b[1;32m----> 5\u001b[0m driver\u001b[39m.\u001b[39;49mfind_element_by_xpath(\u001b[39m'\u001b[39m\u001b[39m//*[@id=\u001b[39m\u001b[39m\"\u001b[39m\u001b[39mstart-unit\u001b[39m\u001b[39m\"\u001b[39m\u001b[39m]\u001b[39m\u001b[39m'\u001b[39m)\u001b[39m.\u001b[39mclick()    \n",
      "\u001b[1;31mAttributeError\u001b[0m: 'WebDriver' object has no attribute 'find_element_by_xpath'"
     ]
    }
   ],
   "source": [
    "for modules_url in modules_urls:\n",
    "    driver.get(modules_url)\n",
    "    time.sleep(1)\n",
    "    # XPathを指定して要素をクリック\n",
    "    driver.find_element_by_xpath('//*[@id=\"start-unit\"]').click()\n",
    "    # XPathを指定して要素をクリック\n",
    "    driver.find_element(By.XPATH, \"ここにXPathを入力\").click()"
   ]
  },
  {
   "cell_type": "code",
   "execution_count": null,
   "metadata": {},
   "outputs": [],
   "source": [
    "# Close the WebDriver\n",
    "driver.quit()"
   ]
  }
 ],
 "metadata": {
  "kernelspec": {
   "display_name": "Python 3",
   "language": "python",
   "name": "python3"
  },
  "language_info": {
   "codemirror_mode": {
    "name": "ipython",
    "version": 3
   },
   "file_extension": ".py",
   "mimetype": "text/x-python",
   "name": "python",
   "nbconvert_exporter": "python",
   "pygments_lexer": "ipython3",
   "version": "3.11.4"
  },
  "orig_nbformat": 4
 },
 "nbformat": 4,
 "nbformat_minor": 2
}
