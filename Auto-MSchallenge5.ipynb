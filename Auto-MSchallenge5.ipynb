{
 "cells": [
  {
   "cell_type": "markdown",
   "metadata": {},
   "source": [
    "Setup"
   ]
  },
  {
   "cell_type": "code",
   "execution_count": 1,
   "metadata": {},
   "outputs": [
    {
     "name": "stdout",
     "output_type": "stream",
     "text": [
      "Defaulting to user installation because normal site-packages is not writeable"
     ]
    },
    {
     "name": "stderr",
     "output_type": "stream",
     "text": [
      "\n",
      "[notice] A new release of pip is available: 23.1.2 -> 23.2.1\n",
      "[notice] To update, run: python.exe -m pip install --upgrade pip\n"
     ]
    },
    {
     "name": "stdout",
     "output_type": "stream",
     "text": [
      "\n",
      "Requirement already satisfied: selenium in c:\\users\\so12r\\appdata\\roaming\\python\\python311\\site-packages (4.11.2)\n",
      "Requirement already satisfied: urllib3[socks]<3,>=1.26 in c:\\users\\so12r\\appdata\\roaming\\python\\python311\\site-packages (from selenium) (1.26.16)\n",
      "Requirement already satisfied: trio~=0.17 in c:\\users\\so12r\\appdata\\roaming\\python\\python311\\site-packages (from selenium) (0.22.2)\n",
      "Requirement already satisfied: trio-websocket~=0.9 in c:\\users\\so12r\\appdata\\roaming\\python\\python311\\site-packages (from selenium) (0.10.3)\n",
      "Requirement already satisfied: certifi>=2021.10.8 in c:\\users\\so12r\\appdata\\roaming\\python\\python311\\site-packages (from selenium) (2023.7.22)\n",
      "Requirement already satisfied: attrs>=20.1.0 in c:\\users\\so12r\\appdata\\roaming\\python\\python311\\site-packages (from trio~=0.17->selenium) (23.1.0)\n",
      "Requirement already satisfied: sortedcontainers in c:\\users\\so12r\\appdata\\roaming\\python\\python311\\site-packages (from trio~=0.17->selenium) (2.4.0)\n",
      "Requirement already satisfied: idna in c:\\users\\so12r\\appdata\\roaming\\python\\python311\\site-packages (from trio~=0.17->selenium) (3.4)\n",
      "Requirement already satisfied: outcome in c:\\users\\so12r\\appdata\\roaming\\python\\python311\\site-packages (from trio~=0.17->selenium) (1.2.0)\n",
      "Requirement already satisfied: sniffio in c:\\users\\so12r\\appdata\\roaming\\python\\python311\\site-packages (from trio~=0.17->selenium) (1.3.0)\n",
      "Requirement already satisfied: cffi>=1.14 in c:\\users\\so12r\\appdata\\roaming\\python\\python311\\site-packages (from trio~=0.17->selenium) (1.15.1)\n",
      "Requirement already satisfied: exceptiongroup in c:\\users\\so12r\\appdata\\roaming\\python\\python311\\site-packages (from trio-websocket~=0.9->selenium) (1.1.2)\n",
      "Requirement already satisfied: wsproto>=0.14 in c:\\users\\so12r\\appdata\\roaming\\python\\python311\\site-packages (from trio-websocket~=0.9->selenium) (1.2.0)\n",
      "Requirement already satisfied: PySocks!=1.5.7,<2.0,>=1.5.6 in c:\\users\\so12r\\appdata\\roaming\\python\\python311\\site-packages (from urllib3[socks]<3,>=1.26->selenium) (1.7.1)\n",
      "Requirement already satisfied: pycparser in c:\\users\\so12r\\appdata\\roaming\\python\\python311\\site-packages (from cffi>=1.14->trio~=0.17->selenium) (2.21)\n",
      "Requirement already satisfied: h11<1,>=0.9.0 in c:\\users\\so12r\\appdata\\roaming\\python\\python311\\site-packages (from wsproto>=0.14->trio-websocket~=0.9->selenium) (0.14.0)\n",
      "Defaulting to user installation because normal site-packages is not writeable\n",
      "Requirement already satisfied: webdriver-manager in c:\\users\\so12r\\appdata\\roaming\\python\\python311\\site-packages (4.0.0)\n",
      "Requirement already satisfied: requests in c:\\users\\so12r\\appdata\\roaming\\python\\python311\\site-packages (from webdriver-manager) (2.28.2)\n",
      "Requirement already satisfied: python-dotenv in c:\\users\\so12r\\appdata\\roaming\\python\\python311\\site-packages (from webdriver-manager) (1.0.0)\n",
      "Requirement already satisfied: packaging in c:\\users\\so12r\\appdata\\roaming\\python\\python311\\site-packages (from webdriver-manager) (23.1)\n",
      "Requirement already satisfied: charset-normalizer<4,>=2 in c:\\users\\so12r\\appdata\\roaming\\python\\python311\\site-packages (from requests->webdriver-manager) (3.2.0)\n",
      "Requirement already satisfied: idna<4,>=2.5 in c:\\users\\so12r\\appdata\\roaming\\python\\python311\\site-packages (from requests->webdriver-manager) (3.4)\n",
      "Requirement already satisfied: urllib3<1.27,>=1.21.1 in c:\\users\\so12r\\appdata\\roaming\\python\\python311\\site-packages (from requests->webdriver-manager) (1.26.16)\n",
      "Requirement already satisfied: certifi>=2017.4.17 in c:\\users\\so12r\\appdata\\roaming\\python\\python311\\site-packages (from requests->webdriver-manager) (2023.7.22)\n"
     ]
    },
    {
     "name": "stderr",
     "output_type": "stream",
     "text": [
      "\n",
      "[notice] A new release of pip is available: 23.1.2 -> 23.2.1\n",
      "[notice] To update, run: python.exe -m pip install --upgrade pip\n"
     ]
    }
   ],
   "source": [
    "!pip install selenium\n",
    "!pip install webdriver-manager"
   ]
  },
  {
   "cell_type": "code",
   "execution_count": 2,
   "metadata": {},
   "outputs": [
    {
     "name": "stdout",
     "output_type": "stream",
     "text": [
      "\n"
     ]
    },
    {
     "ename": "PermissionError",
     "evalue": "[WinError 5] アクセスが拒否されました。: 'C:\\\\Users\\\\so12r\\\\.wdm\\\\drivers\\\\chromedriver\\\\win64\\\\115.0.5790.171\\\\chromedriver-win32\\\\chromedriver.exe' -> 'C:\\\\Users\\\\so12r\\\\.wdm\\\\drivers\\\\chromedriver\\\\win64\\\\115.0.5790.171\\\\chromedriver.exe'",
     "output_type": "error",
     "traceback": [
      "\u001b[1;31m---------------------------------------------------------------------------\u001b[0m",
      "\u001b[1;31mPermissionError\u001b[0m                           Traceback (most recent call last)",
      "File \u001b[1;32m~\\AppData\\Roaming\\Python\\Python311\\site-packages\\webdriver_manager\\core\\file_manager.py:65\u001b[0m, in \u001b[0;36mFileManager.__extract_zip\u001b[1;34m(self, archive_file, to_directory)\u001b[0m\n\u001b[0;32m     64\u001b[0m \u001b[39mtry\u001b[39;00m:\n\u001b[1;32m---> 65\u001b[0m     archive\u001b[39m.\u001b[39;49mextractall(to_directory)\n\u001b[0;32m     66\u001b[0m \u001b[39mexcept\u001b[39;00m \u001b[39mException\u001b[39;00m \u001b[39mas\u001b[39;00m e:\n",
      "File \u001b[1;32mc:\\Program Files\\Python311\\Lib\\zipfile.py:1681\u001b[0m, in \u001b[0;36mZipFile.extractall\u001b[1;34m(self, path, members, pwd)\u001b[0m\n\u001b[0;32m   1680\u001b[0m \u001b[39mfor\u001b[39;00m zipinfo \u001b[39min\u001b[39;00m members:\n\u001b[1;32m-> 1681\u001b[0m     \u001b[39mself\u001b[39;49m\u001b[39m.\u001b[39;49m_extract_member(zipinfo, path, pwd)\n",
      "File \u001b[1;32mc:\\Program Files\\Python311\\Lib\\zipfile.py:1735\u001b[0m, in \u001b[0;36mZipFile._extract_member\u001b[1;34m(self, member, targetpath, pwd)\u001b[0m\n\u001b[0;32m   1732\u001b[0m     \u001b[39mreturn\u001b[39;00m targetpath\n\u001b[0;32m   1734\u001b[0m \u001b[39mwith\u001b[39;00m \u001b[39mself\u001b[39m\u001b[39m.\u001b[39mopen(member, pwd\u001b[39m=\u001b[39mpwd) \u001b[39mas\u001b[39;00m source, \\\n\u001b[1;32m-> 1735\u001b[0m      \u001b[39mopen\u001b[39;49m(targetpath, \u001b[39m\"\u001b[39;49m\u001b[39mwb\u001b[39;49m\u001b[39m\"\u001b[39;49m) \u001b[39mas\u001b[39;00m target:\n\u001b[0;32m   1736\u001b[0m     shutil\u001b[39m.\u001b[39mcopyfileobj(source, target)\n",
      "\u001b[1;31mPermissionError\u001b[0m: [Errno 13] Permission denied: 'C:\\\\Users\\\\so12r\\\\.wdm\\\\drivers\\\\chromedriver\\\\win64\\\\115.0.5790.171\\\\chromedriver-win32\\\\chromedriver.exe'",
      "\nDuring handling of the above exception, another exception occurred:\n",
      "\u001b[1;31mPermissionError\u001b[0m                           Traceback (most recent call last)",
      "Cell \u001b[1;32mIn[2], line 22\u001b[0m\n\u001b[0;32m     19\u001b[0m URL \u001b[39m=\u001b[39m get_url_from_file(file_path)\n\u001b[0;32m     20\u001b[0m \u001b[39mprint\u001b[39m()\n\u001b[1;32m---> 22\u001b[0m driver \u001b[39m=\u001b[39m webdriver\u001b[39m.\u001b[39mChrome(service\u001b[39m=\u001b[39mChromeService(ChromeDriverManager()\u001b[39m.\u001b[39;49minstall()))\n\u001b[0;32m     23\u001b[0m driver\u001b[39m.\u001b[39mimplicitly_wait(\u001b[39m10\u001b[39m)\n\u001b[0;32m     24\u001b[0m driver\u001b[39m.\u001b[39mget(URL)\n",
      "File \u001b[1;32m~\\AppData\\Roaming\\Python\\Python311\\site-packages\\webdriver_manager\\chrome.py:40\u001b[0m, in \u001b[0;36mChromeDriverManager.install\u001b[1;34m(self)\u001b[0m\n\u001b[0;32m     39\u001b[0m \u001b[39mdef\u001b[39;00m \u001b[39minstall\u001b[39m(\u001b[39mself\u001b[39m) \u001b[39m-\u001b[39m\u001b[39m>\u001b[39m \u001b[39mstr\u001b[39m:\n\u001b[1;32m---> 40\u001b[0m     driver_path \u001b[39m=\u001b[39m \u001b[39mself\u001b[39;49m\u001b[39m.\u001b[39;49m_get_driver_binary_path(\u001b[39mself\u001b[39;49m\u001b[39m.\u001b[39;49mdriver)\n\u001b[0;32m     41\u001b[0m     os\u001b[39m.\u001b[39mchmod(driver_path, \u001b[39m0o755\u001b[39m)\n\u001b[0;32m     42\u001b[0m     \u001b[39mreturn\u001b[39;00m driver_path\n",
      "File \u001b[1;32m~\\AppData\\Roaming\\Python\\Python311\\site-packages\\webdriver_manager\\core\\manager.py:41\u001b[0m, in \u001b[0;36mDriverManager._get_driver_binary_path\u001b[1;34m(self, driver)\u001b[0m\n\u001b[0;32m     39\u001b[0m os_type \u001b[39m=\u001b[39m \u001b[39mself\u001b[39m\u001b[39m.\u001b[39mget_os_type()\n\u001b[0;32m     40\u001b[0m file \u001b[39m=\u001b[39m \u001b[39mself\u001b[39m\u001b[39m.\u001b[39m_download_manager\u001b[39m.\u001b[39mdownload_file(driver\u001b[39m.\u001b[39mget_driver_download_url(os_type))\n\u001b[1;32m---> 41\u001b[0m binary_path \u001b[39m=\u001b[39m \u001b[39mself\u001b[39;49m\u001b[39m.\u001b[39;49m_cache_manager\u001b[39m.\u001b[39;49msave_file_to_cache(driver, file)\n\u001b[0;32m     42\u001b[0m \u001b[39mreturn\u001b[39;00m binary_path\n",
      "File \u001b[1;32m~\\AppData\\Roaming\\Python\\Python311\\site-packages\\webdriver_manager\\core\\driver_cache.py:54\u001b[0m, in \u001b[0;36mDriverCacheManager.save_file_to_cache\u001b[1;34m(self, driver, file)\u001b[0m\n\u001b[0;32m     52\u001b[0m path \u001b[39m=\u001b[39m \u001b[39mself\u001b[39m\u001b[39m.\u001b[39m__get_path(driver)\n\u001b[0;32m     53\u001b[0m archive \u001b[39m=\u001b[39m \u001b[39mself\u001b[39m\u001b[39m.\u001b[39msave_archive_file(file, path)\n\u001b[1;32m---> 54\u001b[0m files \u001b[39m=\u001b[39m \u001b[39mself\u001b[39;49m\u001b[39m.\u001b[39;49munpack_archive(archive, path)\n\u001b[0;32m     55\u001b[0m binary \u001b[39m=\u001b[39m \u001b[39mself\u001b[39m\u001b[39m.\u001b[39m__get_binary(files, driver\u001b[39m.\u001b[39mget_name())\n\u001b[0;32m     56\u001b[0m binary_path \u001b[39m=\u001b[39m os\u001b[39m.\u001b[39mpath\u001b[39m.\u001b[39mjoin(path, binary)\n",
      "File \u001b[1;32m~\\AppData\\Roaming\\Python\\Python311\\site-packages\\webdriver_manager\\core\\driver_cache.py:49\u001b[0m, in \u001b[0;36mDriverCacheManager.unpack_archive\u001b[1;34m(self, archive, path)\u001b[0m\n\u001b[0;32m     48\u001b[0m \u001b[39mdef\u001b[39;00m \u001b[39munpack_archive\u001b[39m(\u001b[39mself\u001b[39m, archive, path):\n\u001b[1;32m---> 49\u001b[0m     \u001b[39mreturn\u001b[39;00m \u001b[39mself\u001b[39;49m\u001b[39m.\u001b[39;49m_file_manager\u001b[39m.\u001b[39;49munpack_archive(archive, path)\n",
      "File \u001b[1;32m~\\AppData\\Roaming\\Python\\Python311\\site-packages\\webdriver_manager\\core\\file_manager.py:57\u001b[0m, in \u001b[0;36mFileManager.unpack_archive\u001b[1;34m(self, archive_file, target_dir)\u001b[0m\n\u001b[0;32m     55\u001b[0m file_path \u001b[39m=\u001b[39m archive_file\u001b[39m.\u001b[39mfile_path\n\u001b[0;32m     56\u001b[0m \u001b[39mif\u001b[39;00m file_path\u001b[39m.\u001b[39mendswith(\u001b[39m\"\u001b[39m\u001b[39m.zip\u001b[39m\u001b[39m\"\u001b[39m):\n\u001b[1;32m---> 57\u001b[0m     \u001b[39mreturn\u001b[39;00m \u001b[39mself\u001b[39;49m\u001b[39m.\u001b[39;49m__extract_zip(archive_file, target_dir)\n\u001b[0;32m     58\u001b[0m \u001b[39melif\u001b[39;00m file_path\u001b[39m.\u001b[39mendswith(\u001b[39m\"\u001b[39m\u001b[39m.tar.gz\u001b[39m\u001b[39m\"\u001b[39m):\n\u001b[0;32m     59\u001b[0m     \u001b[39mreturn\u001b[39;00m \u001b[39mself\u001b[39m\u001b[39m.\u001b[39m__extract_tar_file(archive_file, target_dir)\n",
      "File \u001b[1;32m~\\AppData\\Roaming\\Python\\Python311\\site-packages\\webdriver_manager\\core\\file_manager.py:81\u001b[0m, in \u001b[0;36mFileManager.__extract_zip\u001b[1;34m(self, archive_file, to_directory)\u001b[0m\n\u001b[0;32m     79\u001b[0m         source \u001b[39m=\u001b[39m os\u001b[39m.\u001b[39mpath\u001b[39m.\u001b[39mjoin(full_file_path, file_name)\n\u001b[0;32m     80\u001b[0m         destination \u001b[39m=\u001b[39m os\u001b[39m.\u001b[39mpath\u001b[39m.\u001b[39mjoin(to_directory, file_name)\n\u001b[1;32m---> 81\u001b[0m         os\u001b[39m.\u001b[39;49mreplace(source, destination)\n\u001b[0;32m     82\u001b[0m         file_names\u001b[39m.\u001b[39mappend(file_name)\n\u001b[0;32m     83\u001b[0m \u001b[39mreturn\u001b[39;00m \u001b[39msorted\u001b[39m(file_names, key\u001b[39m=\u001b[39m\u001b[39mlambda\u001b[39;00m x: x\u001b[39m.\u001b[39mlower())\n",
      "\u001b[1;31mPermissionError\u001b[0m: [WinError 5] アクセスが拒否されました。: 'C:\\\\Users\\\\so12r\\\\.wdm\\\\drivers\\\\chromedriver\\\\win64\\\\115.0.5790.171\\\\chromedriver-win32\\\\chromedriver.exe' -> 'C:\\\\Users\\\\so12r\\\\.wdm\\\\drivers\\\\chromedriver\\\\win64\\\\115.0.5790.171\\\\chromedriver.exe'"
     ]
    }
   ],
   "source": [
    "#With Automatic updade function of selenium\n",
    "from selenium import webdriver\n",
    "from selenium.webdriver.chrome.service import Service as ChromeService\n",
    "from webdriver_manager.chrome import ChromeDriverManager\n",
    "from selenium.webdriver.common.by import By\n",
    "import time\n",
    "import random\n",
    "from selenium.webdriver.support.ui import WebDriverWait\n",
    "from selenium.webdriver.support import expected_conditions as EC\n",
    "\n",
    "\n",
    "#Function to get URL in text file\n",
    "def get_url_from_file(file_path):\n",
    "    with open(file_path, 'r') as file:\n",
    "        url = file.readline().strip()\n",
    "        return url\n",
    "\n",
    "file_path = r'./info.txt'\n",
    "URL = get_url_from_file(file_path)\n",
    "print()\n",
    "\n",
    "driver = webdriver.Chrome(service=ChromeService(ChromeDriverManager().install()))\n",
    "driver.implicitly_wait(10)\n",
    "driver.get(URL)\n",
    "\n",
    "items_list = driver.find_element(\"id\", \"items-list\")\n",
    "links = items_list.find_elements(\"tag name\", \"a\")\n",
    "modules_urls = [link.get_attribute(\"href\") for link in links]\n",
    "for modules_url in modules_urls:\n",
    "    print(modules_url)"
   ]
  },
  {
   "cell_type": "markdown",
   "metadata": {},
   "source": [
    "MODULEごとに周回"
   ]
  },
  {
   "cell_type": "code",
   "execution_count": null,
   "metadata": {},
   "outputs": [
    {
     "ename": "NameError",
     "evalue": "name 'modules_urls' is not defined",
     "output_type": "error",
     "traceback": [
      "\u001b[1;31m---------------------------------------------------------------------------\u001b[0m",
      "\u001b[1;31mNameError\u001b[0m                                 Traceback (most recent call last)",
      "Cell \u001b[1;32mIn[1], line 1\u001b[0m\n\u001b[1;32m----> 1\u001b[0m \u001b[39mfor\u001b[39;00m modules_url \u001b[39min\u001b[39;00m modules_urls:\n\u001b[0;32m      2\u001b[0m     driver\u001b[39m.\u001b[39mget(modules_url)\n\u001b[0;32m      3\u001b[0m     time\u001b[39m.\u001b[39msleep(\u001b[39m1\u001b[39m)\n",
      "\u001b[1;31mNameError\u001b[0m: name 'modules_urls' is not defined"
     ]
    }
   ],
   "source": [
    "for modules_url in modules_urls:\n",
    "    driver.get(modules_url)\n",
    "    time.sleep(1)\n",
    "    \n",
    "    #ユニット数を取得\n",
    "    element = driver.find_element(\"xpath\",'//*[@id=\"main\"]/div[3]/div/div/div/div/div/div/div[2]/div/ul/li[3]')\n",
    "    text = element.text\n",
    "    modified_text = text.replace(\" ユニット\", \"\")\n",
    "    unit_number = int(modified_text)\n",
    "    test_unit_number =unit_number-2\n",
    "    print(\"Unit count:\", unit_number)\n",
    "    print(\"Test count:\", test_unit_number)\n",
    "    \n",
    "    # 開始ボタンをクリックする\n",
    "    try:\n",
    "        driver.find_element(By.XPATH, '//*[@id=\"start-unit\"]').click()\n",
    "    except:\n",
    "        print(\"End module\")\n",
    "\n",
    "    for unit in range(test_unit_number):\n",
    "        # 要素内のテキストから待機時間を算出\n",
    "        text = driver.find_element(\"id\", \"unit-inner-section\").text\n",
    "        child_elements = driver.find_elements(\"xpath\", '//*[@id=\"unit-inner-section\"]/*')\n",
    "        for child_element in child_elements:\n",
    "            text += child_element.text\n",
    "        total_characters = len(text)\n",
    "        print(\"Total characters:\", total_characters)\n",
    "        number = total_characters\n",
    "        \n",
    "        #test\n",
    "        lower_bound = number / 500\n",
    "        upper_bound = number / 5000\n",
    "        #real\n",
    "        #lower_bound = number / 5\n",
    "        #upper_bound = number / 50\n",
    "        \n",
    "        random_number = random.uniform(lower_bound, upper_bound)\n",
    "        print(\"Wait random time:\", random_number)\n",
    "        time.sleep(random_number)\n",
    "        driver.find_element(By.XPATH, '//*[@id=\"next-section\"]/div/div/p/a').click()"
   ]
  },
  {
   "cell_type": "code",
   "execution_count": null,
   "metadata": {},
   "outputs": [],
   "source": [
    "# Close the WebDriver\n",
    "driver.quit()"
   ]
  }
 ],
 "metadata": {
  "kernelspec": {
   "display_name": "Python 3",
   "language": "python",
   "name": "python3"
  },
  "language_info": {
   "codemirror_mode": {
    "name": "ipython",
    "version": 3
   },
   "file_extension": ".py",
   "mimetype": "text/x-python",
   "name": "python",
   "nbconvert_exporter": "python",
   "pygments_lexer": "ipython3",
   "version": "3.11.4"
  },
  "orig_nbformat": 4
 },
 "nbformat": 4,
 "nbformat_minor": 2
}
